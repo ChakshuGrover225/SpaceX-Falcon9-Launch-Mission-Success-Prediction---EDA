{
 "cells": [
  {
   "cell_type": "markdown",
   "metadata": {},
   "source": [
    "## Data Collection Using API"
   ]
  },
  {
   "cell_type": "markdown",
   "metadata": {},
   "source": [
    "\n",
    "\n",
    "- **Define and request the response** from the SpaceX API:\n",
    "  - URL: `https://api.spacexdata.com/v4/launches/past`\n",
    "\n",
    "- **Check API response**:\n",
    "  - Ensure response health status is `200`.\n",
    "\n",
    "- **Decode response content** as JSON using `json.normalize()`.\n",
    "\n",
    "- **Keep the following rows** from the response:\n",
    "  - Rocket\n",
    "  - Payload\n",
    "  - Launchpad\n",
    "  - Cores\n",
    "  - Flight number\n",
    "  - Date_utc\n",
    "\n",
    "- **Filter the data** based on the following criteria:\n",
    "  - Core == 1\n",
    "  - Payload == 1\n",
    "  - Date before 2023\n",
    "\n",
    "- **Define functions** for handling different parts of the data:\n",
    "  - Get booster data\n",
    "  - Get launch site\n",
    "  - Get payload data\n",
    "  - Get core data\n",
    "\n",
    "- **Define the data to fetch** from the API:\n",
    "  - Booster version\n",
    "  - Payload mass\n",
    "  - Orbit\n",
    "  - Launch site\n",
    "  - Outcome\n",
    "  - Flight number\n",
    "  - Gridfins\n",
    "  - Reused\n",
    "  - Legs\n",
    "  - Landing pad\n",
    "  - Block\n",
    "  - Reused counts\n",
    "  - Serial\n",
    "  - Longitude\n",
    "  - Latitude\n",
    "\n",
    "- **Assemble the data** into a single dictionary with format `{string: list}`.\n",
    "\n",
    "- **Convert the dictionary into a DataFrame** for easier manipulation.\n",
    "\n",
    "- **Filter out booster == 'Falcon 9'**.\n",
    "\n",
    "- **Order the data by Date** and assign flight numbers.\n",
    "\n",
    "- **Check for null values** and apply suitable methods to clean the data.\n",
    "\n",
    "- **Save the data** in a CSV file for future use.\n"
   ]
  },
  {
   "cell_type": "code",
   "execution_count": 37,
   "metadata": {},
   "outputs": [],
   "source": [
    "# import libraries and set Auxiliary values\n",
    "\n",
    "\n",
    "import numpy as np\n",
    "import pandas as pd\n",
    "import requests\n",
    "import datetime\n",
    "\n"
   ]
  },
  {
   "cell_type": "code",
   "execution_count": 38,
   "metadata": {},
   "outputs": [
    {
     "name": "stdout",
     "output_type": "stream",
     "text": [
      "200\n"
     ]
    }
   ],
   "source": [
    "# Define and request the response from the SpaceX API:\n",
    "\n",
    "response = requests.get(url= r'https://api.spacexdata.com/v4/launches/past')\n",
    "# print(response.content)  # To check content of Response\n",
    "\n",
    "print(response.status_code) # Check Result status of response; Crucial for monitoring API health\n",
    "\n"
   ]
  },
  {
   "cell_type": "code",
   "execution_count": 39,
   "metadata": {},
   "outputs": [
    {
     "data": {
      "text/plain": [
       "Index(['static_fire_date_utc', 'static_fire_date_unix', 'net', 'window',\n",
       "       'rocket', 'success', 'failures', 'details', 'crew', 'ships', 'capsules',\n",
       "       'payloads', 'launchpad', 'flight_number', 'name', 'date_utc',\n",
       "       'date_unix', 'date_local', 'date_precision', 'upcoming', 'cores',\n",
       "       'auto_update', 'tbd', 'launch_library_id', 'id', 'fairings.reused',\n",
       "       'fairings.recovery_attempt', 'fairings.recovered', 'fairings.ships',\n",
       "       'links.patch.small', 'links.patch.large', 'links.reddit.campaign',\n",
       "       'links.reddit.launch', 'links.reddit.media', 'links.reddit.recovery',\n",
       "       'links.flickr.small', 'links.flickr.original', 'links.presskit',\n",
       "       'links.webcast', 'links.youtube_id', 'links.article', 'links.wikipedia',\n",
       "       'fairings'],\n",
       "      dtype='object')"
      ]
     },
     "execution_count": 39,
     "metadata": {},
     "output_type": "execute_result"
    }
   ],
   "source": [
    "# jsonify the repsonse\n",
    "\n",
    "json_data = pd.json_normalize(response.json()) #converted a json data into pandas dataframe\n",
    "\n",
    "json_data.columns"
   ]
  },
  {
   "cell_type": "code",
   "execution_count": 40,
   "metadata": {},
   "outputs": [
    {
     "name": "stdout",
     "output_type": "stream",
     "text": [
      "Index(['rocket', 'payloads', 'launchpad', 'cores', 'flight_number',\n",
      "       'date_utc'],\n",
      "      dtype='object')\n",
      "                     rocket                    payloads  \\\n",
      "0  5e9d0d95eda69955f709d1eb  [5eb0e4b5b6c3bb0006eeb1e1]   \n",
      "\n",
      "                  launchpad  \\\n",
      "0  5e9e4502f5090995de566f86   \n",
      "\n",
      "                                               cores  flight_number  \\\n",
      "0  [{'core': '5e9e289df35918033d3b2623', 'flight'...              1   \n",
      "\n",
      "                   date_utc  \n",
      "0  2006-03-24T22:30:00.000Z  \n"
     ]
    }
   ],
   "source": [
    "#Filter the required Data columns:\n",
    "\n",
    "json_data = json_data[['rocket' , \n",
    "                      'payloads',\n",
    "                      'launchpad',\n",
    "                      'cores',\n",
    "                      'flight_number',\n",
    "                      'date_utc']]\n",
    "\n",
    "print(json_data.columns)\n",
    "print(json_data.head(1))\n"
   ]
  },
  {
   "cell_type": "code",
   "execution_count": 41,
   "metadata": {},
   "outputs": [
    {
     "data": {
      "text/plain": [
       "(172, 7)"
      ]
     },
     "execution_count": 41,
     "metadata": {},
     "output_type": "execute_result"
    }
   ],
   "source": [
    "# Filter out the Data as per following Criteria:\n",
    "\n",
    "json_data = json_data[json_data['cores'].map(len)==1] #core present in Aircraft\n",
    "json_data = json_data[json_data['payloads'].map(len)==1] #engine present in Aircraft\n",
    "\n",
    "\n",
    "#since cores and payload are list of size 1, extract that value & make it as single value\n",
    "json_data['cores'] = json_data['cores'].map(lambda x:x[0])\n",
    "json_data['payloads'] = json_data['payloads'].map(lambda x:x[0])\n",
    "\n",
    "\n",
    "json_data['date']       = pd.to_datetime(json_data['date_utc']).dt.date\n",
    "json_data = json_data[json_data['date'] <= datetime.date(2024, 12, 31)]\n",
    "\n",
    "\n",
    "json_data.shape"
   ]
  },
  {
   "cell_type": "code",
   "execution_count": 42,
   "metadata": {},
   "outputs": [
    {
     "data": {
      "text/html": [
       "<div>\n",
       "<style scoped>\n",
       "    .dataframe tbody tr th:only-of-type {\n",
       "        vertical-align: middle;\n",
       "    }\n",
       "\n",
       "    .dataframe tbody tr th {\n",
       "        vertical-align: top;\n",
       "    }\n",
       "\n",
       "    .dataframe thead th {\n",
       "        text-align: right;\n",
       "    }\n",
       "</style>\n",
       "<table border=\"1\" class=\"dataframe\">\n",
       "  <thead>\n",
       "    <tr style=\"text-align: right;\">\n",
       "      <th></th>\n",
       "      <th>rocket</th>\n",
       "      <th>payloads</th>\n",
       "      <th>launchpad</th>\n",
       "      <th>cores</th>\n",
       "      <th>flight_number</th>\n",
       "      <th>date_utc</th>\n",
       "      <th>date</th>\n",
       "    </tr>\n",
       "  </thead>\n",
       "  <tbody>\n",
       "    <tr>\n",
       "      <th>0</th>\n",
       "      <td>5e9d0d95eda69955f709d1eb</td>\n",
       "      <td>5eb0e4b5b6c3bb0006eeb1e1</td>\n",
       "      <td>5e9e4502f5090995de566f86</td>\n",
       "      <td>{'core': '5e9e289df35918033d3b2623', 'flight':...</td>\n",
       "      <td>1</td>\n",
       "      <td>2006-03-24T22:30:00.000Z</td>\n",
       "      <td>2006-03-24</td>\n",
       "    </tr>\n",
       "    <tr>\n",
       "      <th>1</th>\n",
       "      <td>5e9d0d95eda69955f709d1eb</td>\n",
       "      <td>5eb0e4b6b6c3bb0006eeb1e2</td>\n",
       "      <td>5e9e4502f5090995de566f86</td>\n",
       "      <td>{'core': '5e9e289ef35918416a3b2624', 'flight':...</td>\n",
       "      <td>2</td>\n",
       "      <td>2007-03-21T01:10:00.000Z</td>\n",
       "      <td>2007-03-21</td>\n",
       "    </tr>\n",
       "  </tbody>\n",
       "</table>\n",
       "</div>"
      ],
      "text/plain": [
       "                     rocket                  payloads  \\\n",
       "0  5e9d0d95eda69955f709d1eb  5eb0e4b5b6c3bb0006eeb1e1   \n",
       "1  5e9d0d95eda69955f709d1eb  5eb0e4b6b6c3bb0006eeb1e2   \n",
       "\n",
       "                  launchpad  \\\n",
       "0  5e9e4502f5090995de566f86   \n",
       "1  5e9e4502f5090995de566f86   \n",
       "\n",
       "                                               cores  flight_number  \\\n",
       "0  {'core': '5e9e289df35918033d3b2623', 'flight':...              1   \n",
       "1  {'core': '5e9e289ef35918416a3b2624', 'flight':...              2   \n",
       "\n",
       "                   date_utc        date  \n",
       "0  2006-03-24T22:30:00.000Z  2006-03-24  \n",
       "1  2007-03-21T01:10:00.000Z  2007-03-21  "
      ]
     },
     "execution_count": 42,
     "metadata": {},
     "output_type": "execute_result"
    }
   ],
   "source": [
    "json_data.head(2)"
   ]
  },
  {
   "cell_type": "code",
   "execution_count": 55,
   "metadata": {},
   "outputs": [
    {
     "name": "stdout",
     "output_type": "stream",
     "text": [
      "{'core': '5e9e289df35918033d3b2623', 'flight': 1, 'gridfins': False, 'legs': False, 'reused': False, 'landing_attempt': False, 'landing_success': None, 'landing_type': None, 'landpad': None}\n"
     ]
    }
   ],
   "source": [
    "#extractable data from Cores\n",
    "print(json_data.loc[0,'cores'])\n"
   ]
  },
  {
   "cell_type": "code",
   "execution_count": 63,
   "metadata": {},
   "outputs": [],
   "source": [
    "# Define lists of usable parameters:\n",
    "\n",
    "BoosterVersion = []\n",
    "PayloadMass = []\n",
    "Orbit = []\n",
    "LaunchSite = []\n",
    "Outcome = []\n",
    "Flights = []\n",
    "GridFins = []\n",
    "Reused = []\n",
    "Legs = []\n",
    "LandingPad = []\n",
    "Block = []\n",
    "ReusedCount = []\n",
    "Serial = []\n",
    "Longitude = []\n",
    "Latitude = []"
   ]
  },
  {
   "cell_type": "code",
   "execution_count": 64,
   "metadata": {},
   "outputs": [
    {
     "name": "stdout",
     "output_type": "stream",
     "text": [
      "172\n"
     ]
    }
   ],
   "source": [
    "# fetch booster version\n",
    "def get_booster_version(data):\n",
    "    for x in data['rocket']:\n",
    "        response = requests.get(url= f\"https://api.spacexdata.com/v4/rockets/{str(x)}\").json()\n",
    "        BoosterVersion.append(response['name'])\n",
    "\n",
    "get_booster_version(json_data)\n",
    "print(len(BoosterVersion))\n"
   ]
  },
  {
   "cell_type": "code",
   "execution_count": 65,
   "metadata": {},
   "outputs": [
    {
     "name": "stdout",
     "output_type": "stream",
     "text": [
      "172 --- 172 --- 172\n"
     ]
    }
   ],
   "source": [
    "# Fetch launchsite \n",
    "\n",
    "def get_launchsite(data):\n",
    "    for x in data['launchpad']:\n",
    "        response = requests.get(url = f\"https://api.spacexdata.com/v4/launchpads/{str(x)}\").json()\n",
    "        LaunchSite.append(response['name'])\n",
    "        Longitude.append(response['longitude'])\n",
    "        Latitude.append(response['latitude'])\n",
    "\n",
    "\n",
    "get_launchsite(json_data)\n",
    "print(f\"{len(LaunchSite)} --- {len(Longitude)} --- {len(Latitude)}\")"
   ]
  },
  {
   "cell_type": "code",
   "execution_count": 67,
   "metadata": {},
   "outputs": [
    {
     "name": "stdout",
     "output_type": "stream",
     "text": [
      "172 --- 172\n"
     ]
    }
   ],
   "source": [
    "# fetch Payload\n",
    "\n",
    "def get_payload(data):\n",
    "    for x in data['payloads']:\n",
    "        response = requests.get(f\"https://api.spacexdata.com/v4/payloads/{str(x)}\").json()\n",
    "        PayloadMass.append(response['mass_kg'])\n",
    "        Orbit.append(response['orbit'])\n",
    "\n",
    "get_payload(json_data)\n",
    "\n",
    "print(f\"{len(PayloadMass)} --- {len(Orbit)}\")"
   ]
  },
  {
   "cell_type": "code",
   "execution_count": 68,
   "metadata": {},
   "outputs": [
    {
     "name": "stdout",
     "output_type": "stream",
     "text": [
      " 172 --- 172 --- 172 --- 172 \n",
      " 172 --- 172 --- 172 --- 172 \n"
     ]
    }
   ],
   "source": [
    "def get_core(data):\n",
    "        for core in data['cores']:\n",
    "            if core['core'] != None:\n",
    "                response = requests.get(f\"https://api.spacexdata.com/v4/cores/{core['core']}\").json()\n",
    "                Block.append(response['block'])\n",
    "                ReusedCount.append(response['reuse_count'])\n",
    "                Serial.append(response['serial'])\n",
    "            else:\n",
    "                Block.append(None)\n",
    "                ReusedCount.append(None)\n",
    "                Serial.append(None)\n",
    "            Outcome.append(str(core['landing_success'])+' '+str(core['landing_type']))\n",
    "            Flights.append(core['flight'])\n",
    "            GridFins.append(core['gridfins'])\n",
    "            Reused.append(core['reused'])\n",
    "            Legs.append(core['legs'])\n",
    "            LandingPad.append(core['landpad'])\n",
    "\n",
    "\n",
    "\n",
    "get_core(json_data)\n",
    "print(f\" {len(Block)} --- {len(ReusedCount)} --- {len(Serial)} --- {len(Outcome)} \")\n",
    "print(f\" {len(Flights)} --- {len(GridFins)} --- {len(Legs)} --- {len(LandingPad)} \")"
   ]
  },
  {
   "cell_type": "code",
   "execution_count": 69,
   "metadata": {},
   "outputs": [],
   "source": [
    "# assembling the Data\n",
    "\n",
    "\n",
    "assemble_data = {\n",
    "    'FlightNumber' : list(json_data['flight_number']),\n",
    "    'Date' : list(json_data['date']),\n",
    "    'BoosterVersion':BoosterVersion,\n",
    "    'PayloadMass':PayloadMass,\n",
    "    'Orbit':Orbit,\n",
    "    'LaunchSite':LaunchSite,\n",
    "    'Outcome':Outcome,\n",
    "    'Flights':Flights,\n",
    "    'GridFins':GridFins,\n",
    "    'Reused':Reused,\n",
    "    'Legs':Legs,\n",
    "    'LandingPad':LandingPad,\n",
    "    'Block':Block,\n",
    "    'ReusedCount':ReusedCount,\n",
    "    'Serial':Serial,\n",
    "    'Longitude': Longitude,\n",
    "    'Latitude': Latitude\n",
    "}\n",
    "\n",
    "launch_data = pd.DataFrame(assemble_data)"
   ]
  },
  {
   "cell_type": "code",
   "execution_count": 70,
   "metadata": {},
   "outputs": [
    {
     "data": {
      "text/html": [
       "<div>\n",
       "<style scoped>\n",
       "    .dataframe tbody tr th:only-of-type {\n",
       "        vertical-align: middle;\n",
       "    }\n",
       "\n",
       "    .dataframe tbody tr th {\n",
       "        vertical-align: top;\n",
       "    }\n",
       "\n",
       "    .dataframe thead th {\n",
       "        text-align: right;\n",
       "    }\n",
       "</style>\n",
       "<table border=\"1\" class=\"dataframe\">\n",
       "  <thead>\n",
       "    <tr style=\"text-align: right;\">\n",
       "      <th></th>\n",
       "      <th>FlightNumber</th>\n",
       "      <th>Date</th>\n",
       "      <th>BoosterVersion</th>\n",
       "      <th>PayloadMass</th>\n",
       "      <th>Orbit</th>\n",
       "      <th>LaunchSite</th>\n",
       "      <th>Outcome</th>\n",
       "      <th>Flights</th>\n",
       "      <th>GridFins</th>\n",
       "      <th>Reused</th>\n",
       "      <th>Legs</th>\n",
       "      <th>LandingPad</th>\n",
       "      <th>Block</th>\n",
       "      <th>ReusedCount</th>\n",
       "      <th>Serial</th>\n",
       "      <th>Longitude</th>\n",
       "      <th>Latitude</th>\n",
       "    </tr>\n",
       "  </thead>\n",
       "  <tbody>\n",
       "    <tr>\n",
       "      <th>0</th>\n",
       "      <td>1</td>\n",
       "      <td>2006-03-24</td>\n",
       "      <td>Falcon 1</td>\n",
       "      <td>20.0</td>\n",
       "      <td>LEO</td>\n",
       "      <td>Kwajalein Atoll</td>\n",
       "      <td>None None</td>\n",
       "      <td>1</td>\n",
       "      <td>False</td>\n",
       "      <td>False</td>\n",
       "      <td>False</td>\n",
       "      <td>None</td>\n",
       "      <td>NaN</td>\n",
       "      <td>0</td>\n",
       "      <td>Merlin1A</td>\n",
       "      <td>167.743129</td>\n",
       "      <td>9.047721</td>\n",
       "    </tr>\n",
       "    <tr>\n",
       "      <th>1</th>\n",
       "      <td>2</td>\n",
       "      <td>2007-03-21</td>\n",
       "      <td>Falcon 1</td>\n",
       "      <td>NaN</td>\n",
       "      <td>LEO</td>\n",
       "      <td>Kwajalein Atoll</td>\n",
       "      <td>None None</td>\n",
       "      <td>1</td>\n",
       "      <td>False</td>\n",
       "      <td>False</td>\n",
       "      <td>False</td>\n",
       "      <td>None</td>\n",
       "      <td>NaN</td>\n",
       "      <td>0</td>\n",
       "      <td>Merlin2A</td>\n",
       "      <td>167.743129</td>\n",
       "      <td>9.047721</td>\n",
       "    </tr>\n",
       "  </tbody>\n",
       "</table>\n",
       "</div>"
      ],
      "text/plain": [
       "   FlightNumber        Date BoosterVersion  PayloadMass Orbit  \\\n",
       "0             1  2006-03-24       Falcon 1         20.0   LEO   \n",
       "1             2  2007-03-21       Falcon 1          NaN   LEO   \n",
       "\n",
       "        LaunchSite    Outcome  Flights  GridFins  Reused   Legs LandingPad  \\\n",
       "0  Kwajalein Atoll  None None        1     False   False  False       None   \n",
       "1  Kwajalein Atoll  None None        1     False   False  False       None   \n",
       "\n",
       "   Block  ReusedCount    Serial   Longitude  Latitude  \n",
       "0    NaN            0  Merlin1A  167.743129  9.047721  \n",
       "1    NaN            0  Merlin2A  167.743129  9.047721  "
      ]
     },
     "execution_count": 70,
     "metadata": {},
     "output_type": "execute_result"
    }
   ],
   "source": [
    "launch_data.head(2)"
   ]
  },
  {
   "cell_type": "code",
   "execution_count": 72,
   "metadata": {},
   "outputs": [
    {
     "data": {
      "text/plain": [
       "(172, 17)"
      ]
     },
     "execution_count": 72,
     "metadata": {},
     "output_type": "execute_result"
    }
   ],
   "source": [
    "launch_data.shape"
   ]
  },
  {
   "cell_type": "code",
   "execution_count": 74,
   "metadata": {},
   "outputs": [
    {
     "data": {
      "text/plain": [
       "(168, 17)"
      ]
     },
     "execution_count": 74,
     "metadata": {},
     "output_type": "execute_result"
    }
   ],
   "source": [
    "# Filter the Falcon 9 data\n",
    "\n",
    "launch_data_falcon9 = launch_data[launch_data['BoosterVersion']=='Falcon 9']\n",
    "launch_data_falcon9.shape"
   ]
  },
  {
   "cell_type": "code",
   "execution_count": 75,
   "metadata": {},
   "outputs": [
    {
     "data": {
      "text/html": [
       "<div>\n",
       "<style scoped>\n",
       "    .dataframe tbody tr th:only-of-type {\n",
       "        vertical-align: middle;\n",
       "    }\n",
       "\n",
       "    .dataframe tbody tr th {\n",
       "        vertical-align: top;\n",
       "    }\n",
       "\n",
       "    .dataframe thead th {\n",
       "        text-align: right;\n",
       "    }\n",
       "</style>\n",
       "<table border=\"1\" class=\"dataframe\">\n",
       "  <thead>\n",
       "    <tr style=\"text-align: right;\">\n",
       "      <th></th>\n",
       "      <th>FlightNumber</th>\n",
       "      <th>Date</th>\n",
       "      <th>BoosterVersion</th>\n",
       "      <th>PayloadMass</th>\n",
       "      <th>Orbit</th>\n",
       "      <th>LaunchSite</th>\n",
       "      <th>Outcome</th>\n",
       "      <th>Flights</th>\n",
       "      <th>GridFins</th>\n",
       "      <th>Reused</th>\n",
       "      <th>Legs</th>\n",
       "      <th>LandingPad</th>\n",
       "      <th>Block</th>\n",
       "      <th>ReusedCount</th>\n",
       "      <th>Serial</th>\n",
       "      <th>Longitude</th>\n",
       "      <th>Latitude</th>\n",
       "    </tr>\n",
       "  </thead>\n",
       "  <tbody>\n",
       "    <tr>\n",
       "      <th>4</th>\n",
       "      <td>1</td>\n",
       "      <td>2010-06-04</td>\n",
       "      <td>Falcon 9</td>\n",
       "      <td>NaN</td>\n",
       "      <td>LEO</td>\n",
       "      <td>CCSFS SLC 40</td>\n",
       "      <td>None None</td>\n",
       "      <td>1</td>\n",
       "      <td>False</td>\n",
       "      <td>False</td>\n",
       "      <td>False</td>\n",
       "      <td>None</td>\n",
       "      <td>1.0</td>\n",
       "      <td>0</td>\n",
       "      <td>B0003</td>\n",
       "      <td>-80.577366</td>\n",
       "      <td>28.561857</td>\n",
       "    </tr>\n",
       "    <tr>\n",
       "      <th>5</th>\n",
       "      <td>2</td>\n",
       "      <td>2012-05-22</td>\n",
       "      <td>Falcon 9</td>\n",
       "      <td>525.0</td>\n",
       "      <td>LEO</td>\n",
       "      <td>CCSFS SLC 40</td>\n",
       "      <td>None None</td>\n",
       "      <td>1</td>\n",
       "      <td>False</td>\n",
       "      <td>False</td>\n",
       "      <td>False</td>\n",
       "      <td>None</td>\n",
       "      <td>1.0</td>\n",
       "      <td>0</td>\n",
       "      <td>B0005</td>\n",
       "      <td>-80.577366</td>\n",
       "      <td>28.561857</td>\n",
       "    </tr>\n",
       "    <tr>\n",
       "      <th>6</th>\n",
       "      <td>3</td>\n",
       "      <td>2013-03-01</td>\n",
       "      <td>Falcon 9</td>\n",
       "      <td>677.0</td>\n",
       "      <td>ISS</td>\n",
       "      <td>CCSFS SLC 40</td>\n",
       "      <td>None None</td>\n",
       "      <td>1</td>\n",
       "      <td>False</td>\n",
       "      <td>False</td>\n",
       "      <td>False</td>\n",
       "      <td>None</td>\n",
       "      <td>1.0</td>\n",
       "      <td>0</td>\n",
       "      <td>B0007</td>\n",
       "      <td>-80.577366</td>\n",
       "      <td>28.561857</td>\n",
       "    </tr>\n",
       "    <tr>\n",
       "      <th>7</th>\n",
       "      <td>4</td>\n",
       "      <td>2013-09-29</td>\n",
       "      <td>Falcon 9</td>\n",
       "      <td>500.0</td>\n",
       "      <td>PO</td>\n",
       "      <td>VAFB SLC 4E</td>\n",
       "      <td>False Ocean</td>\n",
       "      <td>1</td>\n",
       "      <td>False</td>\n",
       "      <td>False</td>\n",
       "      <td>False</td>\n",
       "      <td>None</td>\n",
       "      <td>1.0</td>\n",
       "      <td>0</td>\n",
       "      <td>B1003</td>\n",
       "      <td>-120.610829</td>\n",
       "      <td>34.632093</td>\n",
       "    </tr>\n",
       "    <tr>\n",
       "      <th>8</th>\n",
       "      <td>5</td>\n",
       "      <td>2013-12-03</td>\n",
       "      <td>Falcon 9</td>\n",
       "      <td>3170.0</td>\n",
       "      <td>GTO</td>\n",
       "      <td>CCSFS SLC 40</td>\n",
       "      <td>None None</td>\n",
       "      <td>1</td>\n",
       "      <td>False</td>\n",
       "      <td>False</td>\n",
       "      <td>False</td>\n",
       "      <td>None</td>\n",
       "      <td>1.0</td>\n",
       "      <td>0</td>\n",
       "      <td>B1004</td>\n",
       "      <td>-80.577366</td>\n",
       "      <td>28.561857</td>\n",
       "    </tr>\n",
       "    <tr>\n",
       "      <th>...</th>\n",
       "      <td>...</td>\n",
       "      <td>...</td>\n",
       "      <td>...</td>\n",
       "      <td>...</td>\n",
       "      <td>...</td>\n",
       "      <td>...</td>\n",
       "      <td>...</td>\n",
       "      <td>...</td>\n",
       "      <td>...</td>\n",
       "      <td>...</td>\n",
       "      <td>...</td>\n",
       "      <td>...</td>\n",
       "      <td>...</td>\n",
       "      <td>...</td>\n",
       "      <td>...</td>\n",
       "      <td>...</td>\n",
       "      <td>...</td>\n",
       "    </tr>\n",
       "    <tr>\n",
       "      <th>167</th>\n",
       "      <td>164</td>\n",
       "      <td>2022-08-28</td>\n",
       "      <td>Falcon 9</td>\n",
       "      <td>13260.0</td>\n",
       "      <td>VLEO</td>\n",
       "      <td>KSC LC 39A</td>\n",
       "      <td>True ASDS</td>\n",
       "      <td>2</td>\n",
       "      <td>True</td>\n",
       "      <td>True</td>\n",
       "      <td>True</td>\n",
       "      <td>5e9e3033383ecb075134e7cd</td>\n",
       "      <td>5.0</td>\n",
       "      <td>1</td>\n",
       "      <td>B1069</td>\n",
       "      <td>-80.603956</td>\n",
       "      <td>28.608058</td>\n",
       "    </tr>\n",
       "    <tr>\n",
       "      <th>168</th>\n",
       "      <td>165</td>\n",
       "      <td>2022-08-31</td>\n",
       "      <td>Falcon 9</td>\n",
       "      <td>13260.0</td>\n",
       "      <td>VLEO</td>\n",
       "      <td>VAFB SLC 4E</td>\n",
       "      <td>True ASDS</td>\n",
       "      <td>7</td>\n",
       "      <td>True</td>\n",
       "      <td>True</td>\n",
       "      <td>True</td>\n",
       "      <td>5e9e3032383ecb6bb234e7ca</td>\n",
       "      <td>5.0</td>\n",
       "      <td>6</td>\n",
       "      <td>B1063</td>\n",
       "      <td>-120.610829</td>\n",
       "      <td>34.632093</td>\n",
       "    </tr>\n",
       "    <tr>\n",
       "      <th>169</th>\n",
       "      <td>166</td>\n",
       "      <td>2022-09-17</td>\n",
       "      <td>Falcon 9</td>\n",
       "      <td>13260.0</td>\n",
       "      <td>VLEO</td>\n",
       "      <td>CCSFS SLC 40</td>\n",
       "      <td>True ASDS</td>\n",
       "      <td>6</td>\n",
       "      <td>True</td>\n",
       "      <td>True</td>\n",
       "      <td>True</td>\n",
       "      <td>5e9e3033383ecbb9e534e7cc</td>\n",
       "      <td>5.0</td>\n",
       "      <td>5</td>\n",
       "      <td>B1067</td>\n",
       "      <td>-80.577366</td>\n",
       "      <td>28.561857</td>\n",
       "    </tr>\n",
       "    <tr>\n",
       "      <th>170</th>\n",
       "      <td>167</td>\n",
       "      <td>2022-09-24</td>\n",
       "      <td>Falcon 9</td>\n",
       "      <td>13260.0</td>\n",
       "      <td>VLEO</td>\n",
       "      <td>CCSFS SLC 40</td>\n",
       "      <td>True ASDS</td>\n",
       "      <td>4</td>\n",
       "      <td>True</td>\n",
       "      <td>True</td>\n",
       "      <td>True</td>\n",
       "      <td>5e9e3033383ecbb9e534e7cc</td>\n",
       "      <td>5.0</td>\n",
       "      <td>0</td>\n",
       "      <td>B1072</td>\n",
       "      <td>-80.577366</td>\n",
       "      <td>28.561857</td>\n",
       "    </tr>\n",
       "    <tr>\n",
       "      <th>171</th>\n",
       "      <td>168</td>\n",
       "      <td>2022-10-05</td>\n",
       "      <td>Falcon 9</td>\n",
       "      <td>NaN</td>\n",
       "      <td>ISS</td>\n",
       "      <td>KSC LC 39A</td>\n",
       "      <td>True ASDS</td>\n",
       "      <td>1</td>\n",
       "      <td>True</td>\n",
       "      <td>False</td>\n",
       "      <td>True</td>\n",
       "      <td>5e9e3033383ecbb9e534e7cc</td>\n",
       "      <td>5.0</td>\n",
       "      <td>0</td>\n",
       "      <td>B1077</td>\n",
       "      <td>-80.603956</td>\n",
       "      <td>28.608058</td>\n",
       "    </tr>\n",
       "  </tbody>\n",
       "</table>\n",
       "<p>168 rows × 17 columns</p>\n",
       "</div>"
      ],
      "text/plain": [
       "     FlightNumber        Date BoosterVersion  PayloadMass Orbit    LaunchSite  \\\n",
       "4               1  2010-06-04       Falcon 9          NaN   LEO  CCSFS SLC 40   \n",
       "5               2  2012-05-22       Falcon 9        525.0   LEO  CCSFS SLC 40   \n",
       "6               3  2013-03-01       Falcon 9        677.0   ISS  CCSFS SLC 40   \n",
       "7               4  2013-09-29       Falcon 9        500.0    PO   VAFB SLC 4E   \n",
       "8               5  2013-12-03       Falcon 9       3170.0   GTO  CCSFS SLC 40   \n",
       "..            ...         ...            ...          ...   ...           ...   \n",
       "167           164  2022-08-28       Falcon 9      13260.0  VLEO    KSC LC 39A   \n",
       "168           165  2022-08-31       Falcon 9      13260.0  VLEO   VAFB SLC 4E   \n",
       "169           166  2022-09-17       Falcon 9      13260.0  VLEO  CCSFS SLC 40   \n",
       "170           167  2022-09-24       Falcon 9      13260.0  VLEO  CCSFS SLC 40   \n",
       "171           168  2022-10-05       Falcon 9          NaN   ISS    KSC LC 39A   \n",
       "\n",
       "         Outcome  Flights  GridFins  Reused   Legs                LandingPad  \\\n",
       "4      None None        1     False   False  False                      None   \n",
       "5      None None        1     False   False  False                      None   \n",
       "6      None None        1     False   False  False                      None   \n",
       "7    False Ocean        1     False   False  False                      None   \n",
       "8      None None        1     False   False  False                      None   \n",
       "..           ...      ...       ...     ...    ...                       ...   \n",
       "167    True ASDS        2      True    True   True  5e9e3033383ecb075134e7cd   \n",
       "168    True ASDS        7      True    True   True  5e9e3032383ecb6bb234e7ca   \n",
       "169    True ASDS        6      True    True   True  5e9e3033383ecbb9e534e7cc   \n",
       "170    True ASDS        4      True    True   True  5e9e3033383ecbb9e534e7cc   \n",
       "171    True ASDS        1      True   False   True  5e9e3033383ecbb9e534e7cc   \n",
       "\n",
       "     Block  ReusedCount Serial   Longitude   Latitude  \n",
       "4      1.0            0  B0003  -80.577366  28.561857  \n",
       "5      1.0            0  B0005  -80.577366  28.561857  \n",
       "6      1.0            0  B0007  -80.577366  28.561857  \n",
       "7      1.0            0  B1003 -120.610829  34.632093  \n",
       "8      1.0            0  B1004  -80.577366  28.561857  \n",
       "..     ...          ...    ...         ...        ...  \n",
       "167    5.0            1  B1069  -80.603956  28.608058  \n",
       "168    5.0            6  B1063 -120.610829  34.632093  \n",
       "169    5.0            5  B1067  -80.577366  28.561857  \n",
       "170    5.0            0  B1072  -80.577366  28.561857  \n",
       "171    5.0            0  B1077  -80.603956  28.608058  \n",
       "\n",
       "[168 rows x 17 columns]"
      ]
     },
     "execution_count": 75,
     "metadata": {},
     "output_type": "execute_result"
    }
   ],
   "source": [
    "launch_data_falcon9.loc[:,\"FlightNumber\"] = list(range(1, launch_data_falcon9.shape[0]+1))\n",
    "launch_data_falcon9"
   ]
  },
  {
   "cell_type": "code",
   "execution_count": 79,
   "metadata": {},
   "outputs": [
    {
     "data": {
      "text/plain": [
       "FlightNumber       0\n",
       "Date               0\n",
       "BoosterVersion     0\n",
       "PayloadMass       22\n",
       "Orbit              1\n",
       "LaunchSite         0\n",
       "Outcome            0\n",
       "Flights            0\n",
       "GridFins           0\n",
       "Reused             0\n",
       "Legs               0\n",
       "LandingPad        26\n",
       "Block              0\n",
       "ReusedCount        0\n",
       "Serial             0\n",
       "Longitude          0\n",
       "Latitude           0\n",
       "dtype: int64"
      ]
     },
     "execution_count": 79,
     "metadata": {},
     "output_type": "execute_result"
    }
   ],
   "source": [
    "launch_data_falcon9.isnull().sum()\n"
   ]
  },
  {
   "cell_type": "code",
   "execution_count": 81,
   "metadata": {},
   "outputs": [],
   "source": [
    "launch_data_falcon9.to_csv(\"Collected_data_falcon_9.csv\", index=False)"
   ]
  },
  {
   "cell_type": "code",
   "execution_count": null,
   "metadata": {},
   "outputs": [],
   "source": []
  }
 ],
 "metadata": {
  "kernelspec": {
   "display_name": "falconEnv",
   "language": "python",
   "name": "python3"
  },
  "language_info": {
   "codemirror_mode": {
    "name": "ipython",
    "version": 3
   },
   "file_extension": ".py",
   "mimetype": "text/x-python",
   "name": "python",
   "nbconvert_exporter": "python",
   "pygments_lexer": "ipython3",
   "version": "3.10.11"
  }
 },
 "nbformat": 4,
 "nbformat_minor": 2
}
