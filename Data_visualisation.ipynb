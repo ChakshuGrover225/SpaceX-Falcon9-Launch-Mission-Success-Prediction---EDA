{
 "cells": [
  {
   "cell_type": "code",
   "execution_count": 8,
   "metadata": {},
   "outputs": [],
   "source": [
    "# import libraries\n",
    "\n",
    "\n",
    "import matplotlib.pyplot as plt\n",
    "import pandas as pd\n",
    "import plotly.express as ptly"
   ]
  },
  {
   "cell_type": "markdown",
   "metadata": {},
   "source": [
    "### Visualisations:\n"
   ]
  },
  {
   "cell_type": "code",
   "execution_count": 7,
   "metadata": {},
   "outputs": [
    {
     "data": {
      "text/html": [
       "<div>\n",
       "<style scoped>\n",
       "    .dataframe tbody tr th:only-of-type {\n",
       "        vertical-align: middle;\n",
       "    }\n",
       "\n",
       "    .dataframe tbody tr th {\n",
       "        vertical-align: top;\n",
       "    }\n",
       "\n",
       "    .dataframe thead th {\n",
       "        text-align: right;\n",
       "    }\n",
       "</style>\n",
       "<table border=\"1\" class=\"dataframe\">\n",
       "  <thead>\n",
       "    <tr style=\"text-align: right;\">\n",
       "      <th></th>\n",
       "      <th>FlightNumber</th>\n",
       "      <th>date</th>\n",
       "      <th>BoosterVersion</th>\n",
       "      <th>PayloadMass</th>\n",
       "      <th>LaunchSite</th>\n",
       "      <th>Latitude</th>\n",
       "      <th>Longitude</th>\n",
       "      <th>Orbit</th>\n",
       "      <th>Flights</th>\n",
       "      <th>Reused</th>\n",
       "      <th>GridFins</th>\n",
       "      <th>Legs</th>\n",
       "      <th>LandingPad</th>\n",
       "      <th>ReusedCount</th>\n",
       "      <th>Serial</th>\n",
       "      <th>Block</th>\n",
       "      <th>Outcome</th>\n",
       "      <th>class</th>\n",
       "    </tr>\n",
       "  </thead>\n",
       "  <tbody>\n",
       "    <tr>\n",
       "      <th>0</th>\n",
       "      <td>1</td>\n",
       "      <td>2010-06-04</td>\n",
       "      <td>Falcon 9</td>\n",
       "      <td>8183.607718</td>\n",
       "      <td>CCSFS SLC 40</td>\n",
       "      <td>28.561857</td>\n",
       "      <td>-80.577366</td>\n",
       "      <td>LEO</td>\n",
       "      <td>1.0</td>\n",
       "      <td>False</td>\n",
       "      <td>False</td>\n",
       "      <td>False</td>\n",
       "      <td>NaN</td>\n",
       "      <td>0.0</td>\n",
       "      <td>B0003</td>\n",
       "      <td>1.0</td>\n",
       "      <td>None None</td>\n",
       "      <td>0</td>\n",
       "    </tr>\n",
       "  </tbody>\n",
       "</table>\n",
       "</div>"
      ],
      "text/plain": [
       "   FlightNumber        date BoosterVersion  PayloadMass    LaunchSite  \\\n",
       "0             1  2010-06-04       Falcon 9  8183.607718  CCSFS SLC 40   \n",
       "\n",
       "    Latitude  Longitude Orbit  Flights  Reused  GridFins   Legs LandingPad  \\\n",
       "0  28.561857 -80.577366   LEO      1.0   False     False  False        NaN   \n",
       "\n",
       "   ReusedCount Serial  Block    Outcome  class  \n",
       "0          0.0  B0003    1.0  None None      0  "
      ]
     },
     "execution_count": 7,
     "metadata": {},
     "output_type": "execute_result"
    }
   ],
   "source": [
    "data = pd.read_csv(\"falcon_9_wrangled_data.csv\")\n",
    "\n",
    "data.head(1)\n"
   ]
  },
  {
   "cell_type": "markdown",
   "metadata": {},
   "source": [
    "#### 1. Relation between Payload Mass and Launch Site"
   ]
  },
  {
   "cell_type": "code",
   "execution_count": 10,
   "metadata": {},
   "outputs": [
    {
     "data": {
      "application/vnd.plotly.v1+json": {
       "config": {
        "plotlyServerURL": "https://plot.ly"
       },
       "data": [
        {
         "hovertemplate": "LaunchSite=%{y}<br>PayloadMass=%{x}<extra></extra>",
         "legendgroup": "CCSFS SLC 40",
         "marker": {
          "color": "#636efa",
          "symbol": "circle"
         },
         "mode": "markers",
         "name": "CCSFS SLC 40",
         "orientation": "h",
         "showlegend": true,
         "type": "scatter",
         "x": [
          8183.607718120806,
          525,
          677,
          3170,
          3325,
          2296,
          1316,
          4535,
          4428,
          2216,
          2395,
          570,
          1898,
          4707,
          2477,
          2034,
          5271,
          3136,
          4696,
          3100,
          2257,
          4600,
          5500,
          2205,
          8183.607718120806,
          4230,
          6092,
          2760,
          350,
          5383.85,
          2410,
          7076,
          5800,
          7060,
          2573,
          4400,
          2482,
          13200,
          2227.7,
          6500,
          15600,
          5000,
          6800,
          15600,
          15600,
          15600,
          1977,
          15600,
          15600,
          3880,
          8183.607718120806,
          15600,
          1600,
          15600,
          3681,
          15600,
          7000,
          3500,
          8183.607718120806,
          15600,
          15600,
          15600,
          15600,
          15600,
          15600,
          15600,
          15600,
          7000,
          3681,
          8183.607718120806,
          13260,
          13260,
          3500,
          8183.607718120806,
          2240,
          13260,
          13260,
          13260,
          8183.607718120806,
          13260,
          13260,
          13260,
          8183.607718120806,
          3938,
          700,
          3500,
          13260,
          13260,
          13260,
          678,
          13260,
          13260,
          13260
         ],
         "xaxis": "x",
         "y": [
          "CCSFS SLC 40",
          "CCSFS SLC 40",
          "CCSFS SLC 40",
          "CCSFS SLC 40",
          "CCSFS SLC 40",
          "CCSFS SLC 40",
          "CCSFS SLC 40",
          "CCSFS SLC 40",
          "CCSFS SLC 40",
          "CCSFS SLC 40",
          "CCSFS SLC 40",
          "CCSFS SLC 40",
          "CCSFS SLC 40",
          "CCSFS SLC 40",
          "CCSFS SLC 40",
          "CCSFS SLC 40",
          "CCSFS SLC 40",
          "CCSFS SLC 40",
          "CCSFS SLC 40",
          "CCSFS SLC 40",
          "CCSFS SLC 40",
          "CCSFS SLC 40",
          "CCSFS SLC 40",
          "CCSFS SLC 40",
          "CCSFS SLC 40",
          "CCSFS SLC 40",
          "CCSFS SLC 40",
          "CCSFS SLC 40",
          "CCSFS SLC 40",
          "CCSFS SLC 40",
          "CCSFS SLC 40",
          "CCSFS SLC 40",
          "CCSFS SLC 40",
          "CCSFS SLC 40",
          "CCSFS SLC 40",
          "CCSFS SLC 40",
          "CCSFS SLC 40",
          "CCSFS SLC 40",
          "CCSFS SLC 40",
          "CCSFS SLC 40",
          "CCSFS SLC 40",
          "CCSFS SLC 40",
          "CCSFS SLC 40",
          "CCSFS SLC 40",
          "CCSFS SLC 40",
          "CCSFS SLC 40",
          "CCSFS SLC 40",
          "CCSFS SLC 40",
          "CCSFS SLC 40",
          "CCSFS SLC 40",
          "CCSFS SLC 40",
          "CCSFS SLC 40",
          "CCSFS SLC 40",
          "CCSFS SLC 40",
          "CCSFS SLC 40",
          "CCSFS SLC 40",
          "CCSFS SLC 40",
          "CCSFS SLC 40",
          "CCSFS SLC 40",
          "CCSFS SLC 40",
          "CCSFS SLC 40",
          "CCSFS SLC 40",
          "CCSFS SLC 40",
          "CCSFS SLC 40",
          "CCSFS SLC 40",
          "CCSFS SLC 40",
          "CCSFS SLC 40",
          "CCSFS SLC 40",
          "CCSFS SLC 40",
          "CCSFS SLC 40",
          "CCSFS SLC 40",
          "CCSFS SLC 40",
          "CCSFS SLC 40",
          "CCSFS SLC 40",
          "CCSFS SLC 40",
          "CCSFS SLC 40",
          "CCSFS SLC 40",
          "CCSFS SLC 40",
          "CCSFS SLC 40",
          "CCSFS SLC 40",
          "CCSFS SLC 40",
          "CCSFS SLC 40",
          "CCSFS SLC 40",
          "CCSFS SLC 40",
          "CCSFS SLC 40",
          "CCSFS SLC 40",
          "CCSFS SLC 40",
          "CCSFS SLC 40",
          "CCSFS SLC 40",
          "CCSFS SLC 40",
          "CCSFS SLC 40",
          "CCSFS SLC 40",
          "CCSFS SLC 40"
         ],
         "yaxis": "y"
        },
        {
         "hovertemplate": "LaunchSite=%{y}<br>PayloadMass=%{x}<extra></extra>",
         "legendgroup": "VAFB SLC 4E",
         "marker": {
          "color": "#EF553B",
          "symbol": "circle"
         },
         "mode": "markers",
         "name": "VAFB SLC 4E",
         "orientation": "h",
         "showlegend": true,
         "type": "scatter",
         "x": [
          500,
          553,
          9600,
          9600,
          475,
          9600,
          9600,
          9600,
          9600,
          2800,
          4000,
          9600,
          1425,
          1440,
          15600,
          670,
          13260,
          8183.607718120806,
          13260,
          8183.607718120806,
          13260,
          2200,
          13260,
          13260,
          13260,
          13260
         ],
         "xaxis": "x",
         "y": [
          "VAFB SLC 4E",
          "VAFB SLC 4E",
          "VAFB SLC 4E",
          "VAFB SLC 4E",
          "VAFB SLC 4E",
          "VAFB SLC 4E",
          "VAFB SLC 4E",
          "VAFB SLC 4E",
          "VAFB SLC 4E",
          "VAFB SLC 4E",
          "VAFB SLC 4E",
          "VAFB SLC 4E",
          "VAFB SLC 4E",
          "VAFB SLC 4E",
          "VAFB SLC 4E",
          "VAFB SLC 4E",
          "VAFB SLC 4E",
          "VAFB SLC 4E",
          "VAFB SLC 4E",
          "VAFB SLC 4E",
          "VAFB SLC 4E",
          "VAFB SLC 4E",
          "VAFB SLC 4E",
          "VAFB SLC 4E",
          "VAFB SLC 4E",
          "VAFB SLC 4E"
         ],
         "yaxis": "y"
        },
        {
         "hovertemplate": "LaunchSite=%{y}<br>PayloadMass=%{x}<extra></extra>",
         "legendgroup": "KSC LC 39A",
         "marker": {
          "color": "#00cc96",
          "symbol": "circle"
         },
         "mode": "markers",
         "name": "KSC LC 39A",
         "orientation": "h",
         "showlegend": true,
         "type": "scatter",
         "x": [
          2490,
          5600,
          5300,
          8183.607718120806,
          6070,
          2708,
          3669,
          6761,
          2910,
          4990,
          5200,
          3700,
          3750,
          3000,
          12259,
          8183.607718120806,
          15600,
          15600,
          9525,
          15600,
          15600,
          15600,
          8183.607718120806,
          2972,
          15600,
          15600,
          15600,
          8183.607718120806,
          15600,
          3328,
          8183.607718120806,
          8183.607718120806,
          12519,
          330,
          8183.607718120806,
          13260,
          13260,
          13260,
          13260,
          8183.607718120806,
          8183.607718120806,
          13260,
          13260,
          13260,
          8183.607718120806,
          13260,
          13260,
          8183.607718120806
         ],
         "xaxis": "x",
         "y": [
          "KSC LC 39A",
          "KSC LC 39A",
          "KSC LC 39A",
          "KSC LC 39A",
          "KSC LC 39A",
          "KSC LC 39A",
          "KSC LC 39A",
          "KSC LC 39A",
          "KSC LC 39A",
          "KSC LC 39A",
          "KSC LC 39A",
          "KSC LC 39A",
          "KSC LC 39A",
          "KSC LC 39A",
          "KSC LC 39A",
          "KSC LC 39A",
          "KSC LC 39A",
          "KSC LC 39A",
          "KSC LC 39A",
          "KSC LC 39A",
          "KSC LC 39A",
          "KSC LC 39A",
          "KSC LC 39A",
          "KSC LC 39A",
          "KSC LC 39A",
          "KSC LC 39A",
          "KSC LC 39A",
          "KSC LC 39A",
          "KSC LC 39A",
          "KSC LC 39A",
          "KSC LC 39A",
          "KSC LC 39A",
          "KSC LC 39A",
          "KSC LC 39A",
          "KSC LC 39A",
          "KSC LC 39A",
          "KSC LC 39A",
          "KSC LC 39A",
          "KSC LC 39A",
          "KSC LC 39A",
          "KSC LC 39A",
          "KSC LC 39A",
          "KSC LC 39A",
          "KSC LC 39A",
          "KSC LC 39A",
          "KSC LC 39A",
          "KSC LC 39A",
          "KSC LC 39A"
         ],
         "yaxis": "y"
        }
       ],
       "layout": {
        "legend": {
         "title": {
          "text": "LaunchSite"
         },
         "tracegroupgap": 0
        },
        "margin": {
         "t": 60
        },
        "template": {
         "data": {
          "bar": [
           {
            "error_x": {
             "color": "#2a3f5f"
            },
            "error_y": {
             "color": "#2a3f5f"
            },
            "marker": {
             "line": {
              "color": "#E5ECF6",
              "width": 0.5
             },
             "pattern": {
              "fillmode": "overlay",
              "size": 10,
              "solidity": 0.2
             }
            },
            "type": "bar"
           }
          ],
          "barpolar": [
           {
            "marker": {
             "line": {
              "color": "#E5ECF6",
              "width": 0.5
             },
             "pattern": {
              "fillmode": "overlay",
              "size": 10,
              "solidity": 0.2
             }
            },
            "type": "barpolar"
           }
          ],
          "carpet": [
           {
            "aaxis": {
             "endlinecolor": "#2a3f5f",
             "gridcolor": "white",
             "linecolor": "white",
             "minorgridcolor": "white",
             "startlinecolor": "#2a3f5f"
            },
            "baxis": {
             "endlinecolor": "#2a3f5f",
             "gridcolor": "white",
             "linecolor": "white",
             "minorgridcolor": "white",
             "startlinecolor": "#2a3f5f"
            },
            "type": "carpet"
           }
          ],
          "choropleth": [
           {
            "colorbar": {
             "outlinewidth": 0,
             "ticks": ""
            },
            "type": "choropleth"
           }
          ],
          "contour": [
           {
            "colorbar": {
             "outlinewidth": 0,
             "ticks": ""
            },
            "colorscale": [
             [
              0,
              "#0d0887"
             ],
             [
              0.1111111111111111,
              "#46039f"
             ],
             [
              0.2222222222222222,
              "#7201a8"
             ],
             [
              0.3333333333333333,
              "#9c179e"
             ],
             [
              0.4444444444444444,
              "#bd3786"
             ],
             [
              0.5555555555555556,
              "#d8576b"
             ],
             [
              0.6666666666666666,
              "#ed7953"
             ],
             [
              0.7777777777777778,
              "#fb9f3a"
             ],
             [
              0.8888888888888888,
              "#fdca26"
             ],
             [
              1,
              "#f0f921"
             ]
            ],
            "type": "contour"
           }
          ],
          "contourcarpet": [
           {
            "colorbar": {
             "outlinewidth": 0,
             "ticks": ""
            },
            "type": "contourcarpet"
           }
          ],
          "heatmap": [
           {
            "colorbar": {
             "outlinewidth": 0,
             "ticks": ""
            },
            "colorscale": [
             [
              0,
              "#0d0887"
             ],
             [
              0.1111111111111111,
              "#46039f"
             ],
             [
              0.2222222222222222,
              "#7201a8"
             ],
             [
              0.3333333333333333,
              "#9c179e"
             ],
             [
              0.4444444444444444,
              "#bd3786"
             ],
             [
              0.5555555555555556,
              "#d8576b"
             ],
             [
              0.6666666666666666,
              "#ed7953"
             ],
             [
              0.7777777777777778,
              "#fb9f3a"
             ],
             [
              0.8888888888888888,
              "#fdca26"
             ],
             [
              1,
              "#f0f921"
             ]
            ],
            "type": "heatmap"
           }
          ],
          "heatmapgl": [
           {
            "colorbar": {
             "outlinewidth": 0,
             "ticks": ""
            },
            "colorscale": [
             [
              0,
              "#0d0887"
             ],
             [
              0.1111111111111111,
              "#46039f"
             ],
             [
              0.2222222222222222,
              "#7201a8"
             ],
             [
              0.3333333333333333,
              "#9c179e"
             ],
             [
              0.4444444444444444,
              "#bd3786"
             ],
             [
              0.5555555555555556,
              "#d8576b"
             ],
             [
              0.6666666666666666,
              "#ed7953"
             ],
             [
              0.7777777777777778,
              "#fb9f3a"
             ],
             [
              0.8888888888888888,
              "#fdca26"
             ],
             [
              1,
              "#f0f921"
             ]
            ],
            "type": "heatmapgl"
           }
          ],
          "histogram": [
           {
            "marker": {
             "pattern": {
              "fillmode": "overlay",
              "size": 10,
              "solidity": 0.2
             }
            },
            "type": "histogram"
           }
          ],
          "histogram2d": [
           {
            "colorbar": {
             "outlinewidth": 0,
             "ticks": ""
            },
            "colorscale": [
             [
              0,
              "#0d0887"
             ],
             [
              0.1111111111111111,
              "#46039f"
             ],
             [
              0.2222222222222222,
              "#7201a8"
             ],
             [
              0.3333333333333333,
              "#9c179e"
             ],
             [
              0.4444444444444444,
              "#bd3786"
             ],
             [
              0.5555555555555556,
              "#d8576b"
             ],
             [
              0.6666666666666666,
              "#ed7953"
             ],
             [
              0.7777777777777778,
              "#fb9f3a"
             ],
             [
              0.8888888888888888,
              "#fdca26"
             ],
             [
              1,
              "#f0f921"
             ]
            ],
            "type": "histogram2d"
           }
          ],
          "histogram2dcontour": [
           {
            "colorbar": {
             "outlinewidth": 0,
             "ticks": ""
            },
            "colorscale": [
             [
              0,
              "#0d0887"
             ],
             [
              0.1111111111111111,
              "#46039f"
             ],
             [
              0.2222222222222222,
              "#7201a8"
             ],
             [
              0.3333333333333333,
              "#9c179e"
             ],
             [
              0.4444444444444444,
              "#bd3786"
             ],
             [
              0.5555555555555556,
              "#d8576b"
             ],
             [
              0.6666666666666666,
              "#ed7953"
             ],
             [
              0.7777777777777778,
              "#fb9f3a"
             ],
             [
              0.8888888888888888,
              "#fdca26"
             ],
             [
              1,
              "#f0f921"
             ]
            ],
            "type": "histogram2dcontour"
           }
          ],
          "mesh3d": [
           {
            "colorbar": {
             "outlinewidth": 0,
             "ticks": ""
            },
            "type": "mesh3d"
           }
          ],
          "parcoords": [
           {
            "line": {
             "colorbar": {
              "outlinewidth": 0,
              "ticks": ""
             }
            },
            "type": "parcoords"
           }
          ],
          "pie": [
           {
            "automargin": true,
            "type": "pie"
           }
          ],
          "scatter": [
           {
            "fillpattern": {
             "fillmode": "overlay",
             "size": 10,
             "solidity": 0.2
            },
            "type": "scatter"
           }
          ],
          "scatter3d": [
           {
            "line": {
             "colorbar": {
              "outlinewidth": 0,
              "ticks": ""
             }
            },
            "marker": {
             "colorbar": {
              "outlinewidth": 0,
              "ticks": ""
             }
            },
            "type": "scatter3d"
           }
          ],
          "scattercarpet": [
           {
            "marker": {
             "colorbar": {
              "outlinewidth": 0,
              "ticks": ""
             }
            },
            "type": "scattercarpet"
           }
          ],
          "scattergeo": [
           {
            "marker": {
             "colorbar": {
              "outlinewidth": 0,
              "ticks": ""
             }
            },
            "type": "scattergeo"
           }
          ],
          "scattergl": [
           {
            "marker": {
             "colorbar": {
              "outlinewidth": 0,
              "ticks": ""
             }
            },
            "type": "scattergl"
           }
          ],
          "scattermapbox": [
           {
            "marker": {
             "colorbar": {
              "outlinewidth": 0,
              "ticks": ""
             }
            },
            "type": "scattermapbox"
           }
          ],
          "scatterpolar": [
           {
            "marker": {
             "colorbar": {
              "outlinewidth": 0,
              "ticks": ""
             }
            },
            "type": "scatterpolar"
           }
          ],
          "scatterpolargl": [
           {
            "marker": {
             "colorbar": {
              "outlinewidth": 0,
              "ticks": ""
             }
            },
            "type": "scatterpolargl"
           }
          ],
          "scatterternary": [
           {
            "marker": {
             "colorbar": {
              "outlinewidth": 0,
              "ticks": ""
             }
            },
            "type": "scatterternary"
           }
          ],
          "surface": [
           {
            "colorbar": {
             "outlinewidth": 0,
             "ticks": ""
            },
            "colorscale": [
             [
              0,
              "#0d0887"
             ],
             [
              0.1111111111111111,
              "#46039f"
             ],
             [
              0.2222222222222222,
              "#7201a8"
             ],
             [
              0.3333333333333333,
              "#9c179e"
             ],
             [
              0.4444444444444444,
              "#bd3786"
             ],
             [
              0.5555555555555556,
              "#d8576b"
             ],
             [
              0.6666666666666666,
              "#ed7953"
             ],
             [
              0.7777777777777778,
              "#fb9f3a"
             ],
             [
              0.8888888888888888,
              "#fdca26"
             ],
             [
              1,
              "#f0f921"
             ]
            ],
            "type": "surface"
           }
          ],
          "table": [
           {
            "cells": {
             "fill": {
              "color": "#EBF0F8"
             },
             "line": {
              "color": "white"
             }
            },
            "header": {
             "fill": {
              "color": "#C8D4E3"
             },
             "line": {
              "color": "white"
             }
            },
            "type": "table"
           }
          ]
         },
         "layout": {
          "annotationdefaults": {
           "arrowcolor": "#2a3f5f",
           "arrowhead": 0,
           "arrowwidth": 1
          },
          "autotypenumbers": "strict",
          "coloraxis": {
           "colorbar": {
            "outlinewidth": 0,
            "ticks": ""
           }
          },
          "colorscale": {
           "diverging": [
            [
             0,
             "#8e0152"
            ],
            [
             0.1,
             "#c51b7d"
            ],
            [
             0.2,
             "#de77ae"
            ],
            [
             0.3,
             "#f1b6da"
            ],
            [
             0.4,
             "#fde0ef"
            ],
            [
             0.5,
             "#f7f7f7"
            ],
            [
             0.6,
             "#e6f5d0"
            ],
            [
             0.7,
             "#b8e186"
            ],
            [
             0.8,
             "#7fbc41"
            ],
            [
             0.9,
             "#4d9221"
            ],
            [
             1,
             "#276419"
            ]
           ],
           "sequential": [
            [
             0,
             "#0d0887"
            ],
            [
             0.1111111111111111,
             "#46039f"
            ],
            [
             0.2222222222222222,
             "#7201a8"
            ],
            [
             0.3333333333333333,
             "#9c179e"
            ],
            [
             0.4444444444444444,
             "#bd3786"
            ],
            [
             0.5555555555555556,
             "#d8576b"
            ],
            [
             0.6666666666666666,
             "#ed7953"
            ],
            [
             0.7777777777777778,
             "#fb9f3a"
            ],
            [
             0.8888888888888888,
             "#fdca26"
            ],
            [
             1,
             "#f0f921"
            ]
           ],
           "sequentialminus": [
            [
             0,
             "#0d0887"
            ],
            [
             0.1111111111111111,
             "#46039f"
            ],
            [
             0.2222222222222222,
             "#7201a8"
            ],
            [
             0.3333333333333333,
             "#9c179e"
            ],
            [
             0.4444444444444444,
             "#bd3786"
            ],
            [
             0.5555555555555556,
             "#d8576b"
            ],
            [
             0.6666666666666666,
             "#ed7953"
            ],
            [
             0.7777777777777778,
             "#fb9f3a"
            ],
            [
             0.8888888888888888,
             "#fdca26"
            ],
            [
             1,
             "#f0f921"
            ]
           ]
          },
          "colorway": [
           "#636efa",
           "#EF553B",
           "#00cc96",
           "#ab63fa",
           "#FFA15A",
           "#19d3f3",
           "#FF6692",
           "#B6E880",
           "#FF97FF",
           "#FECB52"
          ],
          "font": {
           "color": "#2a3f5f"
          },
          "geo": {
           "bgcolor": "white",
           "lakecolor": "white",
           "landcolor": "#E5ECF6",
           "showlakes": true,
           "showland": true,
           "subunitcolor": "white"
          },
          "hoverlabel": {
           "align": "left"
          },
          "hovermode": "closest",
          "mapbox": {
           "style": "light"
          },
          "paper_bgcolor": "white",
          "plot_bgcolor": "#E5ECF6",
          "polar": {
           "angularaxis": {
            "gridcolor": "white",
            "linecolor": "white",
            "ticks": ""
           },
           "bgcolor": "#E5ECF6",
           "radialaxis": {
            "gridcolor": "white",
            "linecolor": "white",
            "ticks": ""
           }
          },
          "scene": {
           "xaxis": {
            "backgroundcolor": "#E5ECF6",
            "gridcolor": "white",
            "gridwidth": 2,
            "linecolor": "white",
            "showbackground": true,
            "ticks": "",
            "zerolinecolor": "white"
           },
           "yaxis": {
            "backgroundcolor": "#E5ECF6",
            "gridcolor": "white",
            "gridwidth": 2,
            "linecolor": "white",
            "showbackground": true,
            "ticks": "",
            "zerolinecolor": "white"
           },
           "zaxis": {
            "backgroundcolor": "#E5ECF6",
            "gridcolor": "white",
            "gridwidth": 2,
            "linecolor": "white",
            "showbackground": true,
            "ticks": "",
            "zerolinecolor": "white"
           }
          },
          "shapedefaults": {
           "line": {
            "color": "#2a3f5f"
           }
          },
          "ternary": {
           "aaxis": {
            "gridcolor": "white",
            "linecolor": "white",
            "ticks": ""
           },
           "baxis": {
            "gridcolor": "white",
            "linecolor": "white",
            "ticks": ""
           },
           "bgcolor": "#E5ECF6",
           "caxis": {
            "gridcolor": "white",
            "linecolor": "white",
            "ticks": ""
           }
          },
          "title": {
           "x": 0.05
          },
          "xaxis": {
           "automargin": true,
           "gridcolor": "white",
           "linecolor": "white",
           "ticks": "",
           "title": {
            "standoff": 15
           },
           "zerolinecolor": "white",
           "zerolinewidth": 2
          },
          "yaxis": {
           "automargin": true,
           "gridcolor": "white",
           "linecolor": "white",
           "ticks": "",
           "title": {
            "standoff": 15
           },
           "zerolinecolor": "white",
           "zerolinewidth": 2
          }
         }
        },
        "xaxis": {
         "anchor": "y",
         "domain": [
          0,
          1
         ],
         "title": {
          "text": "PayloadMass"
         }
        },
        "yaxis": {
         "anchor": "x",
         "categoryarray": [
          "KSC LC 39A",
          "VAFB SLC 4E",
          "CCSFS SLC 40"
         ],
         "categoryorder": "array",
         "domain": [
          0,
          1
         ],
         "title": {
          "text": "LaunchSite"
         }
        }
       }
      }
     },
     "metadata": {},
     "output_type": "display_data"
    }
   ],
   "source": [
    "payload_data = data['PayloadMass']\n",
    "launchSite_data = data['LaunchSite']\n",
    "\n",
    "fig = ptly.scatter(data, x= 'PayloadMass' , y= 'LaunchSite', color= 'LaunchSite')\n",
    "fig.show()\n"
   ]
  },
  {
   "cell_type": "code",
   "execution_count": 12,
   "metadata": {},
   "outputs": [
    {
     "data": {
      "application/vnd.plotly.v1+json": {
       "config": {
        "plotlyServerURL": "https://plot.ly"
       },
       "data": [
        {
         "alignmentgroup": "True",
         "bingroup": "x",
         "histnorm": "density",
         "hovertemplate": "LaunchSite=CCSFS SLC 40<br>PayloadMass=%{x}<br>density=%{y}<extra></extra>",
         "legendgroup": "CCSFS SLC 40",
         "marker": {
          "color": "#636efa",
          "pattern": {
           "shape": ""
          }
         },
         "name": "CCSFS SLC 40",
         "offsetgroup": "CCSFS SLC 40",
         "orientation": "v",
         "showlegend": true,
         "type": "histogram",
         "x": [
          8183.607718120806,
          525,
          677,
          3170,
          3325,
          2296,
          1316,
          4535,
          4428,
          2216,
          2395,
          570,
          1898,
          4707,
          2477,
          2034,
          5271,
          3136,
          4696,
          3100,
          2257,
          4600,
          5500,
          2205,
          8183.607718120806,
          4230,
          6092,
          2760,
          350,
          5383.85,
          2410,
          7076,
          5800,
          7060,
          2573,
          4400,
          2482,
          13200,
          2227.7,
          6500,
          15600,
          5000,
          6800,
          15600,
          15600,
          15600,
          1977,
          15600,
          15600,
          3880,
          8183.607718120806,
          15600,
          1600,
          15600,
          3681,
          15600,
          7000,
          3500,
          8183.607718120806,
          15600,
          15600,
          15600,
          15600,
          15600,
          15600,
          15600,
          15600,
          7000,
          3681,
          8183.607718120806,
          13260,
          13260,
          3500,
          8183.607718120806,
          2240,
          13260,
          13260,
          13260,
          8183.607718120806,
          13260,
          13260,
          13260,
          8183.607718120806,
          3938,
          700,
          3500,
          13260,
          13260,
          13260,
          678,
          13260,
          13260,
          13260
         ],
         "xaxis": "x",
         "yaxis": "y"
        },
        {
         "alignmentgroup": "True",
         "hovertemplate": "LaunchSite=CCSFS SLC 40<br>PayloadMass=%{x}<extra></extra>",
         "legendgroup": "CCSFS SLC 40",
         "marker": {
          "color": "#636efa"
         },
         "name": "CCSFS SLC 40",
         "offsetgroup": "CCSFS SLC 40",
         "scalegroup": "x",
         "showlegend": false,
         "type": "violin",
         "x": [
          8183.607718120806,
          525,
          677,
          3170,
          3325,
          2296,
          1316,
          4535,
          4428,
          2216,
          2395,
          570,
          1898,
          4707,
          2477,
          2034,
          5271,
          3136,
          4696,
          3100,
          2257,
          4600,
          5500,
          2205,
          8183.607718120806,
          4230,
          6092,
          2760,
          350,
          5383.85,
          2410,
          7076,
          5800,
          7060,
          2573,
          4400,
          2482,
          13200,
          2227.7,
          6500,
          15600,
          5000,
          6800,
          15600,
          15600,
          15600,
          1977,
          15600,
          15600,
          3880,
          8183.607718120806,
          15600,
          1600,
          15600,
          3681,
          15600,
          7000,
          3500,
          8183.607718120806,
          15600,
          15600,
          15600,
          15600,
          15600,
          15600,
          15600,
          15600,
          7000,
          3681,
          8183.607718120806,
          13260,
          13260,
          3500,
          8183.607718120806,
          2240,
          13260,
          13260,
          13260,
          8183.607718120806,
          13260,
          13260,
          13260,
          8183.607718120806,
          3938,
          700,
          3500,
          13260,
          13260,
          13260,
          678,
          13260,
          13260,
          13260
         ],
         "xaxis": "x2",
         "yaxis": "y2"
        },
        {
         "alignmentgroup": "True",
         "bingroup": "x",
         "histnorm": "density",
         "hovertemplate": "LaunchSite=VAFB SLC 4E<br>PayloadMass=%{x}<br>density=%{y}<extra></extra>",
         "legendgroup": "VAFB SLC 4E",
         "marker": {
          "color": "#EF553B",
          "pattern": {
           "shape": ""
          }
         },
         "name": "VAFB SLC 4E",
         "offsetgroup": "VAFB SLC 4E",
         "orientation": "v",
         "showlegend": true,
         "type": "histogram",
         "x": [
          500,
          553,
          9600,
          9600,
          475,
          9600,
          9600,
          9600,
          9600,
          2800,
          4000,
          9600,
          1425,
          1440,
          15600,
          670,
          13260,
          8183.607718120806,
          13260,
          8183.607718120806,
          13260,
          2200,
          13260,
          13260,
          13260,
          13260
         ],
         "xaxis": "x",
         "yaxis": "y"
        },
        {
         "alignmentgroup": "True",
         "hovertemplate": "LaunchSite=VAFB SLC 4E<br>PayloadMass=%{x}<extra></extra>",
         "legendgroup": "VAFB SLC 4E",
         "marker": {
          "color": "#EF553B"
         },
         "name": "VAFB SLC 4E",
         "offsetgroup": "VAFB SLC 4E",
         "scalegroup": "x",
         "showlegend": false,
         "type": "violin",
         "x": [
          500,
          553,
          9600,
          9600,
          475,
          9600,
          9600,
          9600,
          9600,
          2800,
          4000,
          9600,
          1425,
          1440,
          15600,
          670,
          13260,
          8183.607718120806,
          13260,
          8183.607718120806,
          13260,
          2200,
          13260,
          13260,
          13260,
          13260
         ],
         "xaxis": "x2",
         "yaxis": "y2"
        },
        {
         "alignmentgroup": "True",
         "bingroup": "x",
         "histnorm": "density",
         "hovertemplate": "LaunchSite=KSC LC 39A<br>PayloadMass=%{x}<br>density=%{y}<extra></extra>",
         "legendgroup": "KSC LC 39A",
         "marker": {
          "color": "#00cc96",
          "pattern": {
           "shape": ""
          }
         },
         "name": "KSC LC 39A",
         "offsetgroup": "KSC LC 39A",
         "orientation": "v",
         "showlegend": true,
         "type": "histogram",
         "x": [
          2490,
          5600,
          5300,
          8183.607718120806,
          6070,
          2708,
          3669,
          6761,
          2910,
          4990,
          5200,
          3700,
          3750,
          3000,
          12259,
          8183.607718120806,
          15600,
          15600,
          9525,
          15600,
          15600,
          15600,
          8183.607718120806,
          2972,
          15600,
          15600,
          15600,
          8183.607718120806,
          15600,
          3328,
          8183.607718120806,
          8183.607718120806,
          12519,
          330,
          8183.607718120806,
          13260,
          13260,
          13260,
          13260,
          8183.607718120806,
          8183.607718120806,
          13260,
          13260,
          13260,
          8183.607718120806,
          13260,
          13260,
          8183.607718120806
         ],
         "xaxis": "x",
         "yaxis": "y"
        },
        {
         "alignmentgroup": "True",
         "hovertemplate": "LaunchSite=KSC LC 39A<br>PayloadMass=%{x}<extra></extra>",
         "legendgroup": "KSC LC 39A",
         "marker": {
          "color": "#00cc96"
         },
         "name": "KSC LC 39A",
         "offsetgroup": "KSC LC 39A",
         "scalegroup": "x",
         "showlegend": false,
         "type": "violin",
         "x": [
          2490,
          5600,
          5300,
          8183.607718120806,
          6070,
          2708,
          3669,
          6761,
          2910,
          4990,
          5200,
          3700,
          3750,
          3000,
          12259,
          8183.607718120806,
          15600,
          15600,
          9525,
          15600,
          15600,
          15600,
          8183.607718120806,
          2972,
          15600,
          15600,
          15600,
          8183.607718120806,
          15600,
          3328,
          8183.607718120806,
          8183.607718120806,
          12519,
          330,
          8183.607718120806,
          13260,
          13260,
          13260,
          13260,
          8183.607718120806,
          8183.607718120806,
          13260,
          13260,
          13260,
          8183.607718120806,
          13260,
          13260,
          8183.607718120806
         ],
         "xaxis": "x2",
         "yaxis": "y2"
        }
       ],
       "layout": {
        "barmode": "relative",
        "legend": {
         "title": {
          "text": "LaunchSite"
         },
         "tracegroupgap": 0
        },
        "margin": {
         "t": 60
        },
        "template": {
         "data": {
          "bar": [
           {
            "error_x": {
             "color": "#2a3f5f"
            },
            "error_y": {
             "color": "#2a3f5f"
            },
            "marker": {
             "line": {
              "color": "#E5ECF6",
              "width": 0.5
             },
             "pattern": {
              "fillmode": "overlay",
              "size": 10,
              "solidity": 0.2
             }
            },
            "type": "bar"
           }
          ],
          "barpolar": [
           {
            "marker": {
             "line": {
              "color": "#E5ECF6",
              "width": 0.5
             },
             "pattern": {
              "fillmode": "overlay",
              "size": 10,
              "solidity": 0.2
             }
            },
            "type": "barpolar"
           }
          ],
          "carpet": [
           {
            "aaxis": {
             "endlinecolor": "#2a3f5f",
             "gridcolor": "white",
             "linecolor": "white",
             "minorgridcolor": "white",
             "startlinecolor": "#2a3f5f"
            },
            "baxis": {
             "endlinecolor": "#2a3f5f",
             "gridcolor": "white",
             "linecolor": "white",
             "minorgridcolor": "white",
             "startlinecolor": "#2a3f5f"
            },
            "type": "carpet"
           }
          ],
          "choropleth": [
           {
            "colorbar": {
             "outlinewidth": 0,
             "ticks": ""
            },
            "type": "choropleth"
           }
          ],
          "contour": [
           {
            "colorbar": {
             "outlinewidth": 0,
             "ticks": ""
            },
            "colorscale": [
             [
              0,
              "#0d0887"
             ],
             [
              0.1111111111111111,
              "#46039f"
             ],
             [
              0.2222222222222222,
              "#7201a8"
             ],
             [
              0.3333333333333333,
              "#9c179e"
             ],
             [
              0.4444444444444444,
              "#bd3786"
             ],
             [
              0.5555555555555556,
              "#d8576b"
             ],
             [
              0.6666666666666666,
              "#ed7953"
             ],
             [
              0.7777777777777778,
              "#fb9f3a"
             ],
             [
              0.8888888888888888,
              "#fdca26"
             ],
             [
              1,
              "#f0f921"
             ]
            ],
            "type": "contour"
           }
          ],
          "contourcarpet": [
           {
            "colorbar": {
             "outlinewidth": 0,
             "ticks": ""
            },
            "type": "contourcarpet"
           }
          ],
          "heatmap": [
           {
            "colorbar": {
             "outlinewidth": 0,
             "ticks": ""
            },
            "colorscale": [
             [
              0,
              "#0d0887"
             ],
             [
              0.1111111111111111,
              "#46039f"
             ],
             [
              0.2222222222222222,
              "#7201a8"
             ],
             [
              0.3333333333333333,
              "#9c179e"
             ],
             [
              0.4444444444444444,
              "#bd3786"
             ],
             [
              0.5555555555555556,
              "#d8576b"
             ],
             [
              0.6666666666666666,
              "#ed7953"
             ],
             [
              0.7777777777777778,
              "#fb9f3a"
             ],
             [
              0.8888888888888888,
              "#fdca26"
             ],
             [
              1,
              "#f0f921"
             ]
            ],
            "type": "heatmap"
           }
          ],
          "heatmapgl": [
           {
            "colorbar": {
             "outlinewidth": 0,
             "ticks": ""
            },
            "colorscale": [
             [
              0,
              "#0d0887"
             ],
             [
              0.1111111111111111,
              "#46039f"
             ],
             [
              0.2222222222222222,
              "#7201a8"
             ],
             [
              0.3333333333333333,
              "#9c179e"
             ],
             [
              0.4444444444444444,
              "#bd3786"
             ],
             [
              0.5555555555555556,
              "#d8576b"
             ],
             [
              0.6666666666666666,
              "#ed7953"
             ],
             [
              0.7777777777777778,
              "#fb9f3a"
             ],
             [
              0.8888888888888888,
              "#fdca26"
             ],
             [
              1,
              "#f0f921"
             ]
            ],
            "type": "heatmapgl"
           }
          ],
          "histogram": [
           {
            "marker": {
             "pattern": {
              "fillmode": "overlay",
              "size": 10,
              "solidity": 0.2
             }
            },
            "type": "histogram"
           }
          ],
          "histogram2d": [
           {
            "colorbar": {
             "outlinewidth": 0,
             "ticks": ""
            },
            "colorscale": [
             [
              0,
              "#0d0887"
             ],
             [
              0.1111111111111111,
              "#46039f"
             ],
             [
              0.2222222222222222,
              "#7201a8"
             ],
             [
              0.3333333333333333,
              "#9c179e"
             ],
             [
              0.4444444444444444,
              "#bd3786"
             ],
             [
              0.5555555555555556,
              "#d8576b"
             ],
             [
              0.6666666666666666,
              "#ed7953"
             ],
             [
              0.7777777777777778,
              "#fb9f3a"
             ],
             [
              0.8888888888888888,
              "#fdca26"
             ],
             [
              1,
              "#f0f921"
             ]
            ],
            "type": "histogram2d"
           }
          ],
          "histogram2dcontour": [
           {
            "colorbar": {
             "outlinewidth": 0,
             "ticks": ""
            },
            "colorscale": [
             [
              0,
              "#0d0887"
             ],
             [
              0.1111111111111111,
              "#46039f"
             ],
             [
              0.2222222222222222,
              "#7201a8"
             ],
             [
              0.3333333333333333,
              "#9c179e"
             ],
             [
              0.4444444444444444,
              "#bd3786"
             ],
             [
              0.5555555555555556,
              "#d8576b"
             ],
             [
              0.6666666666666666,
              "#ed7953"
             ],
             [
              0.7777777777777778,
              "#fb9f3a"
             ],
             [
              0.8888888888888888,
              "#fdca26"
             ],
             [
              1,
              "#f0f921"
             ]
            ],
            "type": "histogram2dcontour"
           }
          ],
          "mesh3d": [
           {
            "colorbar": {
             "outlinewidth": 0,
             "ticks": ""
            },
            "type": "mesh3d"
           }
          ],
          "parcoords": [
           {
            "line": {
             "colorbar": {
              "outlinewidth": 0,
              "ticks": ""
             }
            },
            "type": "parcoords"
           }
          ],
          "pie": [
           {
            "automargin": true,
            "type": "pie"
           }
          ],
          "scatter": [
           {
            "fillpattern": {
             "fillmode": "overlay",
             "size": 10,
             "solidity": 0.2
            },
            "type": "scatter"
           }
          ],
          "scatter3d": [
           {
            "line": {
             "colorbar": {
              "outlinewidth": 0,
              "ticks": ""
             }
            },
            "marker": {
             "colorbar": {
              "outlinewidth": 0,
              "ticks": ""
             }
            },
            "type": "scatter3d"
           }
          ],
          "scattercarpet": [
           {
            "marker": {
             "colorbar": {
              "outlinewidth": 0,
              "ticks": ""
             }
            },
            "type": "scattercarpet"
           }
          ],
          "scattergeo": [
           {
            "marker": {
             "colorbar": {
              "outlinewidth": 0,
              "ticks": ""
             }
            },
            "type": "scattergeo"
           }
          ],
          "scattergl": [
           {
            "marker": {
             "colorbar": {
              "outlinewidth": 0,
              "ticks": ""
             }
            },
            "type": "scattergl"
           }
          ],
          "scattermapbox": [
           {
            "marker": {
             "colorbar": {
              "outlinewidth": 0,
              "ticks": ""
             }
            },
            "type": "scattermapbox"
           }
          ],
          "scatterpolar": [
           {
            "marker": {
             "colorbar": {
              "outlinewidth": 0,
              "ticks": ""
             }
            },
            "type": "scatterpolar"
           }
          ],
          "scatterpolargl": [
           {
            "marker": {
             "colorbar": {
              "outlinewidth": 0,
              "ticks": ""
             }
            },
            "type": "scatterpolargl"
           }
          ],
          "scatterternary": [
           {
            "marker": {
             "colorbar": {
              "outlinewidth": 0,
              "ticks": ""
             }
            },
            "type": "scatterternary"
           }
          ],
          "surface": [
           {
            "colorbar": {
             "outlinewidth": 0,
             "ticks": ""
            },
            "colorscale": [
             [
              0,
              "#0d0887"
             ],
             [
              0.1111111111111111,
              "#46039f"
             ],
             [
              0.2222222222222222,
              "#7201a8"
             ],
             [
              0.3333333333333333,
              "#9c179e"
             ],
             [
              0.4444444444444444,
              "#bd3786"
             ],
             [
              0.5555555555555556,
              "#d8576b"
             ],
             [
              0.6666666666666666,
              "#ed7953"
             ],
             [
              0.7777777777777778,
              "#fb9f3a"
             ],
             [
              0.8888888888888888,
              "#fdca26"
             ],
             [
              1,
              "#f0f921"
             ]
            ],
            "type": "surface"
           }
          ],
          "table": [
           {
            "cells": {
             "fill": {
              "color": "#EBF0F8"
             },
             "line": {
              "color": "white"
             }
            },
            "header": {
             "fill": {
              "color": "#C8D4E3"
             },
             "line": {
              "color": "white"
             }
            },
            "type": "table"
           }
          ]
         },
         "layout": {
          "annotationdefaults": {
           "arrowcolor": "#2a3f5f",
           "arrowhead": 0,
           "arrowwidth": 1
          },
          "autotypenumbers": "strict",
          "coloraxis": {
           "colorbar": {
            "outlinewidth": 0,
            "ticks": ""
           }
          },
          "colorscale": {
           "diverging": [
            [
             0,
             "#8e0152"
            ],
            [
             0.1,
             "#c51b7d"
            ],
            [
             0.2,
             "#de77ae"
            ],
            [
             0.3,
             "#f1b6da"
            ],
            [
             0.4,
             "#fde0ef"
            ],
            [
             0.5,
             "#f7f7f7"
            ],
            [
             0.6,
             "#e6f5d0"
            ],
            [
             0.7,
             "#b8e186"
            ],
            [
             0.8,
             "#7fbc41"
            ],
            [
             0.9,
             "#4d9221"
            ],
            [
             1,
             "#276419"
            ]
           ],
           "sequential": [
            [
             0,
             "#0d0887"
            ],
            [
             0.1111111111111111,
             "#46039f"
            ],
            [
             0.2222222222222222,
             "#7201a8"
            ],
            [
             0.3333333333333333,
             "#9c179e"
            ],
            [
             0.4444444444444444,
             "#bd3786"
            ],
            [
             0.5555555555555556,
             "#d8576b"
            ],
            [
             0.6666666666666666,
             "#ed7953"
            ],
            [
             0.7777777777777778,
             "#fb9f3a"
            ],
            [
             0.8888888888888888,
             "#fdca26"
            ],
            [
             1,
             "#f0f921"
            ]
           ],
           "sequentialminus": [
            [
             0,
             "#0d0887"
            ],
            [
             0.1111111111111111,
             "#46039f"
            ],
            [
             0.2222222222222222,
             "#7201a8"
            ],
            [
             0.3333333333333333,
             "#9c179e"
            ],
            [
             0.4444444444444444,
             "#bd3786"
            ],
            [
             0.5555555555555556,
             "#d8576b"
            ],
            [
             0.6666666666666666,
             "#ed7953"
            ],
            [
             0.7777777777777778,
             "#fb9f3a"
            ],
            [
             0.8888888888888888,
             "#fdca26"
            ],
            [
             1,
             "#f0f921"
            ]
           ]
          },
          "colorway": [
           "#636efa",
           "#EF553B",
           "#00cc96",
           "#ab63fa",
           "#FFA15A",
           "#19d3f3",
           "#FF6692",
           "#B6E880",
           "#FF97FF",
           "#FECB52"
          ],
          "font": {
           "color": "#2a3f5f"
          },
          "geo": {
           "bgcolor": "white",
           "lakecolor": "white",
           "landcolor": "#E5ECF6",
           "showlakes": true,
           "showland": true,
           "subunitcolor": "white"
          },
          "hoverlabel": {
           "align": "left"
          },
          "hovermode": "closest",
          "mapbox": {
           "style": "light"
          },
          "paper_bgcolor": "white",
          "plot_bgcolor": "#E5ECF6",
          "polar": {
           "angularaxis": {
            "gridcolor": "white",
            "linecolor": "white",
            "ticks": ""
           },
           "bgcolor": "#E5ECF6",
           "radialaxis": {
            "gridcolor": "white",
            "linecolor": "white",
            "ticks": ""
           }
          },
          "scene": {
           "xaxis": {
            "backgroundcolor": "#E5ECF6",
            "gridcolor": "white",
            "gridwidth": 2,
            "linecolor": "white",
            "showbackground": true,
            "ticks": "",
            "zerolinecolor": "white"
           },
           "yaxis": {
            "backgroundcolor": "#E5ECF6",
            "gridcolor": "white",
            "gridwidth": 2,
            "linecolor": "white",
            "showbackground": true,
            "ticks": "",
            "zerolinecolor": "white"
           },
           "zaxis": {
            "backgroundcolor": "#E5ECF6",
            "gridcolor": "white",
            "gridwidth": 2,
            "linecolor": "white",
            "showbackground": true,
            "ticks": "",
            "zerolinecolor": "white"
           }
          },
          "shapedefaults": {
           "line": {
            "color": "#2a3f5f"
           }
          },
          "ternary": {
           "aaxis": {
            "gridcolor": "white",
            "linecolor": "white",
            "ticks": ""
           },
           "baxis": {
            "gridcolor": "white",
            "linecolor": "white",
            "ticks": ""
           },
           "bgcolor": "#E5ECF6",
           "caxis": {
            "gridcolor": "white",
            "linecolor": "white",
            "ticks": ""
           }
          },
          "title": {
           "x": 0.05
          },
          "xaxis": {
           "automargin": true,
           "gridcolor": "white",
           "linecolor": "white",
           "ticks": "",
           "title": {
            "standoff": 15
           },
           "zerolinecolor": "white",
           "zerolinewidth": 2
          },
          "yaxis": {
           "automargin": true,
           "gridcolor": "white",
           "linecolor": "white",
           "ticks": "",
           "title": {
            "standoff": 15
           },
           "zerolinecolor": "white",
           "zerolinewidth": 2
          }
         }
        },
        "xaxis": {
         "anchor": "y",
         "domain": [
          0,
          1
         ],
         "title": {
          "text": "PayloadMass"
         }
        },
        "xaxis2": {
         "anchor": "y2",
         "domain": [
          0,
          1
         ],
         "matches": "x",
         "showgrid": true,
         "showticklabels": false
        },
        "yaxis": {
         "anchor": "x",
         "domain": [
          0,
          0.7326
         ],
         "title": {
          "text": "density"
         }
        },
        "yaxis2": {
         "anchor": "x2",
         "domain": [
          0.7426,
          1
         ],
         "matches": "y2",
         "showgrid": false,
         "showline": false,
         "showticklabels": false,
         "ticks": ""
        }
       }
      }
     },
     "metadata": {},
     "output_type": "display_data"
    }
   ],
   "source": [
    "fig = ptly.histogram(data, x='PayloadMass', color='LaunchSite', \n",
    "                   histnorm='density', marginal='violin')\n",
    "\n",
    "# Show the plot\n",
    "fig.show()"
   ]
  },
  {
   "cell_type": "code",
   "execution_count": 14,
   "metadata": {},
   "outputs": [
    {
     "data": {
      "application/vnd.plotly.v1+json": {
       "config": {
        "plotlyServerURL": "https://plot.ly"
       },
       "data": [
        {
         "contours": {
          "coloring": "none"
         },
         "hovertemplate": "Launch Site=CCSFS SLC 40<br>PayloadMass=%{x}<br>index=%{y}<br>count=%{z}<extra></extra>",
         "legendgroup": "CCSFS SLC 40",
         "line": {
          "color": "#636efa"
         },
         "name": "CCSFS SLC 40",
         "showlegend": true,
         "type": "histogram2dcontour",
         "x": [
          8183.607718120806,
          525,
          677,
          3170,
          3325,
          2296,
          1316,
          4535,
          4428,
          2216,
          2395,
          570,
          1898,
          4707,
          2477,
          2034,
          5271,
          3136,
          4696,
          3100,
          2257,
          4600,
          5500,
          2205,
          8183.607718120806,
          4230,
          6092,
          2760,
          350,
          5383.85,
          2410,
          7076,
          5800,
          7060,
          2573,
          4400,
          2482,
          13200,
          2227.7,
          6500,
          15600,
          5000,
          6800,
          15600,
          15600,
          15600,
          1977,
          15600,
          15600,
          3880,
          8183.607718120806,
          15600,
          1600,
          15600,
          3681,
          15600,
          7000,
          3500,
          8183.607718120806,
          15600,
          15600,
          15600,
          15600,
          15600,
          15600,
          15600,
          15600,
          7000,
          3681,
          8183.607718120806,
          13260,
          13260,
          3500,
          8183.607718120806,
          2240,
          13260,
          13260,
          13260,
          8183.607718120806,
          13260,
          13260,
          13260,
          8183.607718120806,
          3938,
          700,
          3500,
          13260,
          13260,
          13260,
          678,
          13260,
          13260,
          13260
         ],
         "xaxis": "x",
         "xbingroup": "x",
         "y": [
          0,
          1,
          2,
          4,
          5,
          6,
          7,
          8,
          9,
          10,
          11,
          12,
          13,
          14,
          15,
          16,
          18,
          19,
          20,
          21,
          22,
          23,
          24,
          41,
          43,
          44,
          45,
          47,
          48,
          50,
          51,
          52,
          54,
          55,
          59,
          60,
          63,
          64,
          66,
          67,
          68,
          69,
          70,
          71,
          73,
          74,
          75,
          79,
          80,
          81,
          82,
          83,
          84,
          88,
          89,
          92,
          94,
          95,
          97,
          98,
          99,
          101,
          103,
          104,
          106,
          108,
          109,
          111,
          112,
          113,
          118,
          120,
          123,
          126,
          128,
          131,
          134,
          135,
          136,
          139,
          141,
          144,
          146,
          147,
          150,
          151,
          152,
          155,
          157,
          158,
          161,
          164,
          165
         ],
         "yaxis": "y",
         "ybingroup": "y"
        },
        {
         "alignmentgroup": "True",
         "bingroup": "x",
         "hovertemplate": "Launch Site=CCSFS SLC 40<br>PayloadMass=%{x}<br>count=%{y}<extra></extra>",
         "legendgroup": "CCSFS SLC 40",
         "marker": {
          "color": "#636efa"
         },
         "name": "CCSFS SLC 40",
         "offsetgroup": "CCSFS SLC 40",
         "opacity": 0.5,
         "showlegend": false,
         "type": "histogram",
         "x": [
          8183.607718120806,
          525,
          677,
          3170,
          3325,
          2296,
          1316,
          4535,
          4428,
          2216,
          2395,
          570,
          1898,
          4707,
          2477,
          2034,
          5271,
          3136,
          4696,
          3100,
          2257,
          4600,
          5500,
          2205,
          8183.607718120806,
          4230,
          6092,
          2760,
          350,
          5383.85,
          2410,
          7076,
          5800,
          7060,
          2573,
          4400,
          2482,
          13200,
          2227.7,
          6500,
          15600,
          5000,
          6800,
          15600,
          15600,
          15600,
          1977,
          15600,
          15600,
          3880,
          8183.607718120806,
          15600,
          1600,
          15600,
          3681,
          15600,
          7000,
          3500,
          8183.607718120806,
          15600,
          15600,
          15600,
          15600,
          15600,
          15600,
          15600,
          15600,
          7000,
          3681,
          8183.607718120806,
          13260,
          13260,
          3500,
          8183.607718120806,
          2240,
          13260,
          13260,
          13260,
          8183.607718120806,
          13260,
          13260,
          13260,
          8183.607718120806,
          3938,
          700,
          3500,
          13260,
          13260,
          13260,
          678,
          13260,
          13260,
          13260
         ],
         "xaxis": "x3",
         "yaxis": "y3"
        },
        {
         "alignmentgroup": "True",
         "bingroup": "y",
         "hovertemplate": "Launch Site=CCSFS SLC 40<br>index=%{y}<br>count=%{x}<extra></extra>",
         "legendgroup": "CCSFS SLC 40",
         "marker": {
          "color": "#636efa"
         },
         "name": "CCSFS SLC 40",
         "offsetgroup": "CCSFS SLC 40",
         "opacity": 0.5,
         "showlegend": false,
         "type": "histogram",
         "xaxis": "x2",
         "y": [
          0,
          1,
          2,
          4,
          5,
          6,
          7,
          8,
          9,
          10,
          11,
          12,
          13,
          14,
          15,
          16,
          18,
          19,
          20,
          21,
          22,
          23,
          24,
          41,
          43,
          44,
          45,
          47,
          48,
          50,
          51,
          52,
          54,
          55,
          59,
          60,
          63,
          64,
          66,
          67,
          68,
          69,
          70,
          71,
          73,
          74,
          75,
          79,
          80,
          81,
          82,
          83,
          84,
          88,
          89,
          92,
          94,
          95,
          97,
          98,
          99,
          101,
          103,
          104,
          106,
          108,
          109,
          111,
          112,
          113,
          118,
          120,
          123,
          126,
          128,
          131,
          134,
          135,
          136,
          139,
          141,
          144,
          146,
          147,
          150,
          151,
          152,
          155,
          157,
          158,
          161,
          164,
          165
         ],
         "yaxis": "y2"
        },
        {
         "contours": {
          "coloring": "none"
         },
         "hovertemplate": "Launch Site=VAFB SLC 4E<br>PayloadMass=%{x}<br>index=%{y}<br>count=%{z}<extra></extra>",
         "legendgroup": "VAFB SLC 4E",
         "line": {
          "color": "#EF553B"
         },
         "name": "VAFB SLC 4E",
         "showlegend": true,
         "type": "histogram2dcontour",
         "x": [
          500,
          553,
          9600,
          9600,
          475,
          9600,
          9600,
          9600,
          9600,
          2800,
          4000,
          9600,
          1425,
          1440,
          15600,
          670,
          13260,
          8183.607718120806,
          13260,
          8183.607718120806,
          13260,
          2200,
          13260,
          13260,
          13260,
          13260
         ],
         "xaxis": "x",
         "xbingroup": "x",
         "y": [
          3,
          17,
          25,
          33,
          36,
          38,
          42,
          46,
          53,
          56,
          58,
          61,
          65,
          91,
          115,
          119,
          122,
          129,
          132,
          138,
          143,
          149,
          153,
          156,
          160,
          163
         ],
         "yaxis": "y",
         "ybingroup": "y"
        },
        {
         "alignmentgroup": "True",
         "bingroup": "x",
         "hovertemplate": "Launch Site=VAFB SLC 4E<br>PayloadMass=%{x}<br>count=%{y}<extra></extra>",
         "legendgroup": "VAFB SLC 4E",
         "marker": {
          "color": "#EF553B"
         },
         "name": "VAFB SLC 4E",
         "offsetgroup": "VAFB SLC 4E",
         "opacity": 0.5,
         "showlegend": false,
         "type": "histogram",
         "x": [
          500,
          553,
          9600,
          9600,
          475,
          9600,
          9600,
          9600,
          9600,
          2800,
          4000,
          9600,
          1425,
          1440,
          15600,
          670,
          13260,
          8183.607718120806,
          13260,
          8183.607718120806,
          13260,
          2200,
          13260,
          13260,
          13260,
          13260
         ],
         "xaxis": "x3",
         "yaxis": "y3"
        },
        {
         "alignmentgroup": "True",
         "bingroup": "y",
         "hovertemplate": "Launch Site=VAFB SLC 4E<br>index=%{y}<br>count=%{x}<extra></extra>",
         "legendgroup": "VAFB SLC 4E",
         "marker": {
          "color": "#EF553B"
         },
         "name": "VAFB SLC 4E",
         "offsetgroup": "VAFB SLC 4E",
         "opacity": 0.5,
         "showlegend": false,
         "type": "histogram",
         "xaxis": "x2",
         "y": [
          3,
          17,
          25,
          33,
          36,
          38,
          42,
          46,
          53,
          56,
          58,
          61,
          65,
          91,
          115,
          119,
          122,
          129,
          132,
          138,
          143,
          149,
          153,
          156,
          160,
          163
         ],
         "yaxis": "y2"
        },
        {
         "contours": {
          "coloring": "none"
         },
         "hovertemplate": "Launch Site=KSC LC 39A<br>PayloadMass=%{x}<br>index=%{y}<br>count=%{z}<extra></extra>",
         "legendgroup": "KSC LC 39A",
         "line": {
          "color": "#00cc96"
         },
         "name": "KSC LC 39A",
         "showlegend": true,
         "type": "histogram2dcontour",
         "x": [
          2490,
          5600,
          5300,
          8183.607718120806,
          6070,
          2708,
          3669,
          6761,
          2910,
          4990,
          5200,
          3700,
          3750,
          3000,
          12259,
          8183.607718120806,
          15600,
          15600,
          9525,
          15600,
          15600,
          15600,
          8183.607718120806,
          2972,
          15600,
          15600,
          15600,
          8183.607718120806,
          15600,
          3328,
          8183.607718120806,
          8183.607718120806,
          12519,
          330,
          8183.607718120806,
          13260,
          13260,
          13260,
          13260,
          8183.607718120806,
          8183.607718120806,
          13260,
          13260,
          13260,
          8183.607718120806,
          13260,
          13260,
          8183.607718120806
         ],
         "xaxis": "x",
         "xbingroup": "x",
         "y": [
          26,
          27,
          28,
          29,
          30,
          31,
          32,
          34,
          35,
          37,
          39,
          40,
          49,
          57,
          62,
          72,
          76,
          77,
          78,
          85,
          86,
          87,
          90,
          93,
          96,
          100,
          102,
          105,
          107,
          110,
          114,
          116,
          117,
          121,
          124,
          125,
          127,
          130,
          133,
          137,
          140,
          142,
          145,
          148,
          154,
          159,
          162,
          166
         ],
         "yaxis": "y",
         "ybingroup": "y"
        },
        {
         "alignmentgroup": "True",
         "bingroup": "x",
         "hovertemplate": "Launch Site=KSC LC 39A<br>PayloadMass=%{x}<br>count=%{y}<extra></extra>",
         "legendgroup": "KSC LC 39A",
         "marker": {
          "color": "#00cc96"
         },
         "name": "KSC LC 39A",
         "offsetgroup": "KSC LC 39A",
         "opacity": 0.5,
         "showlegend": false,
         "type": "histogram",
         "x": [
          2490,
          5600,
          5300,
          8183.607718120806,
          6070,
          2708,
          3669,
          6761,
          2910,
          4990,
          5200,
          3700,
          3750,
          3000,
          12259,
          8183.607718120806,
          15600,
          15600,
          9525,
          15600,
          15600,
          15600,
          8183.607718120806,
          2972,
          15600,
          15600,
          15600,
          8183.607718120806,
          15600,
          3328,
          8183.607718120806,
          8183.607718120806,
          12519,
          330,
          8183.607718120806,
          13260,
          13260,
          13260,
          13260,
          8183.607718120806,
          8183.607718120806,
          13260,
          13260,
          13260,
          8183.607718120806,
          13260,
          13260,
          8183.607718120806
         ],
         "xaxis": "x3",
         "yaxis": "y3"
        },
        {
         "alignmentgroup": "True",
         "bingroup": "y",
         "hovertemplate": "Launch Site=KSC LC 39A<br>index=%{y}<br>count=%{x}<extra></extra>",
         "legendgroup": "KSC LC 39A",
         "marker": {
          "color": "#00cc96"
         },
         "name": "KSC LC 39A",
         "offsetgroup": "KSC LC 39A",
         "opacity": 0.5,
         "showlegend": false,
         "type": "histogram",
         "xaxis": "x2",
         "y": [
          26,
          27,
          28,
          29,
          30,
          31,
          32,
          34,
          35,
          37,
          39,
          40,
          49,
          57,
          62,
          72,
          76,
          77,
          78,
          85,
          86,
          87,
          90,
          93,
          96,
          100,
          102,
          105,
          107,
          110,
          114,
          116,
          117,
          121,
          124,
          125,
          127,
          130,
          133,
          137,
          140,
          142,
          145,
          148,
          154,
          159,
          162,
          166
         ],
         "yaxis": "y2"
        }
       ],
       "layout": {
        "barmode": "overlay",
        "legend": {
         "title": {
          "text": "Launch Site"
         },
         "tracegroupgap": 0
        },
        "template": {
         "data": {
          "bar": [
           {
            "error_x": {
             "color": "#2a3f5f"
            },
            "error_y": {
             "color": "#2a3f5f"
            },
            "marker": {
             "line": {
              "color": "#E5ECF6",
              "width": 0.5
             },
             "pattern": {
              "fillmode": "overlay",
              "size": 10,
              "solidity": 0.2
             }
            },
            "type": "bar"
           }
          ],
          "barpolar": [
           {
            "marker": {
             "line": {
              "color": "#E5ECF6",
              "width": 0.5
             },
             "pattern": {
              "fillmode": "overlay",
              "size": 10,
              "solidity": 0.2
             }
            },
            "type": "barpolar"
           }
          ],
          "carpet": [
           {
            "aaxis": {
             "endlinecolor": "#2a3f5f",
             "gridcolor": "white",
             "linecolor": "white",
             "minorgridcolor": "white",
             "startlinecolor": "#2a3f5f"
            },
            "baxis": {
             "endlinecolor": "#2a3f5f",
             "gridcolor": "white",
             "linecolor": "white",
             "minorgridcolor": "white",
             "startlinecolor": "#2a3f5f"
            },
            "type": "carpet"
           }
          ],
          "choropleth": [
           {
            "colorbar": {
             "outlinewidth": 0,
             "ticks": ""
            },
            "type": "choropleth"
           }
          ],
          "contour": [
           {
            "colorbar": {
             "outlinewidth": 0,
             "ticks": ""
            },
            "colorscale": [
             [
              0,
              "#0d0887"
             ],
             [
              0.1111111111111111,
              "#46039f"
             ],
             [
              0.2222222222222222,
              "#7201a8"
             ],
             [
              0.3333333333333333,
              "#9c179e"
             ],
             [
              0.4444444444444444,
              "#bd3786"
             ],
             [
              0.5555555555555556,
              "#d8576b"
             ],
             [
              0.6666666666666666,
              "#ed7953"
             ],
             [
              0.7777777777777778,
              "#fb9f3a"
             ],
             [
              0.8888888888888888,
              "#fdca26"
             ],
             [
              1,
              "#f0f921"
             ]
            ],
            "type": "contour"
           }
          ],
          "contourcarpet": [
           {
            "colorbar": {
             "outlinewidth": 0,
             "ticks": ""
            },
            "type": "contourcarpet"
           }
          ],
          "heatmap": [
           {
            "colorbar": {
             "outlinewidth": 0,
             "ticks": ""
            },
            "colorscale": [
             [
              0,
              "#0d0887"
             ],
             [
              0.1111111111111111,
              "#46039f"
             ],
             [
              0.2222222222222222,
              "#7201a8"
             ],
             [
              0.3333333333333333,
              "#9c179e"
             ],
             [
              0.4444444444444444,
              "#bd3786"
             ],
             [
              0.5555555555555556,
              "#d8576b"
             ],
             [
              0.6666666666666666,
              "#ed7953"
             ],
             [
              0.7777777777777778,
              "#fb9f3a"
             ],
             [
              0.8888888888888888,
              "#fdca26"
             ],
             [
              1,
              "#f0f921"
             ]
            ],
            "type": "heatmap"
           }
          ],
          "heatmapgl": [
           {
            "colorbar": {
             "outlinewidth": 0,
             "ticks": ""
            },
            "colorscale": [
             [
              0,
              "#0d0887"
             ],
             [
              0.1111111111111111,
              "#46039f"
             ],
             [
              0.2222222222222222,
              "#7201a8"
             ],
             [
              0.3333333333333333,
              "#9c179e"
             ],
             [
              0.4444444444444444,
              "#bd3786"
             ],
             [
              0.5555555555555556,
              "#d8576b"
             ],
             [
              0.6666666666666666,
              "#ed7953"
             ],
             [
              0.7777777777777778,
              "#fb9f3a"
             ],
             [
              0.8888888888888888,
              "#fdca26"
             ],
             [
              1,
              "#f0f921"
             ]
            ],
            "type": "heatmapgl"
           }
          ],
          "histogram": [
           {
            "marker": {
             "pattern": {
              "fillmode": "overlay",
              "size": 10,
              "solidity": 0.2
             }
            },
            "type": "histogram"
           }
          ],
          "histogram2d": [
           {
            "colorbar": {
             "outlinewidth": 0,
             "ticks": ""
            },
            "colorscale": [
             [
              0,
              "#0d0887"
             ],
             [
              0.1111111111111111,
              "#46039f"
             ],
             [
              0.2222222222222222,
              "#7201a8"
             ],
             [
              0.3333333333333333,
              "#9c179e"
             ],
             [
              0.4444444444444444,
              "#bd3786"
             ],
             [
              0.5555555555555556,
              "#d8576b"
             ],
             [
              0.6666666666666666,
              "#ed7953"
             ],
             [
              0.7777777777777778,
              "#fb9f3a"
             ],
             [
              0.8888888888888888,
              "#fdca26"
             ],
             [
              1,
              "#f0f921"
             ]
            ],
            "type": "histogram2d"
           }
          ],
          "histogram2dcontour": [
           {
            "colorbar": {
             "outlinewidth": 0,
             "ticks": ""
            },
            "colorscale": [
             [
              0,
              "#0d0887"
             ],
             [
              0.1111111111111111,
              "#46039f"
             ],
             [
              0.2222222222222222,
              "#7201a8"
             ],
             [
              0.3333333333333333,
              "#9c179e"
             ],
             [
              0.4444444444444444,
              "#bd3786"
             ],
             [
              0.5555555555555556,
              "#d8576b"
             ],
             [
              0.6666666666666666,
              "#ed7953"
             ],
             [
              0.7777777777777778,
              "#fb9f3a"
             ],
             [
              0.8888888888888888,
              "#fdca26"
             ],
             [
              1,
              "#f0f921"
             ]
            ],
            "type": "histogram2dcontour"
           }
          ],
          "mesh3d": [
           {
            "colorbar": {
             "outlinewidth": 0,
             "ticks": ""
            },
            "type": "mesh3d"
           }
          ],
          "parcoords": [
           {
            "line": {
             "colorbar": {
              "outlinewidth": 0,
              "ticks": ""
             }
            },
            "type": "parcoords"
           }
          ],
          "pie": [
           {
            "automargin": true,
            "type": "pie"
           }
          ],
          "scatter": [
           {
            "fillpattern": {
             "fillmode": "overlay",
             "size": 10,
             "solidity": 0.2
            },
            "type": "scatter"
           }
          ],
          "scatter3d": [
           {
            "line": {
             "colorbar": {
              "outlinewidth": 0,
              "ticks": ""
             }
            },
            "marker": {
             "colorbar": {
              "outlinewidth": 0,
              "ticks": ""
             }
            },
            "type": "scatter3d"
           }
          ],
          "scattercarpet": [
           {
            "marker": {
             "colorbar": {
              "outlinewidth": 0,
              "ticks": ""
             }
            },
            "type": "scattercarpet"
           }
          ],
          "scattergeo": [
           {
            "marker": {
             "colorbar": {
              "outlinewidth": 0,
              "ticks": ""
             }
            },
            "type": "scattergeo"
           }
          ],
          "scattergl": [
           {
            "marker": {
             "colorbar": {
              "outlinewidth": 0,
              "ticks": ""
             }
            },
            "type": "scattergl"
           }
          ],
          "scattermapbox": [
           {
            "marker": {
             "colorbar": {
              "outlinewidth": 0,
              "ticks": ""
             }
            },
            "type": "scattermapbox"
           }
          ],
          "scatterpolar": [
           {
            "marker": {
             "colorbar": {
              "outlinewidth": 0,
              "ticks": ""
             }
            },
            "type": "scatterpolar"
           }
          ],
          "scatterpolargl": [
           {
            "marker": {
             "colorbar": {
              "outlinewidth": 0,
              "ticks": ""
             }
            },
            "type": "scatterpolargl"
           }
          ],
          "scatterternary": [
           {
            "marker": {
             "colorbar": {
              "outlinewidth": 0,
              "ticks": ""
             }
            },
            "type": "scatterternary"
           }
          ],
          "surface": [
           {
            "colorbar": {
             "outlinewidth": 0,
             "ticks": ""
            },
            "colorscale": [
             [
              0,
              "#0d0887"
             ],
             [
              0.1111111111111111,
              "#46039f"
             ],
             [
              0.2222222222222222,
              "#7201a8"
             ],
             [
              0.3333333333333333,
              "#9c179e"
             ],
             [
              0.4444444444444444,
              "#bd3786"
             ],
             [
              0.5555555555555556,
              "#d8576b"
             ],
             [
              0.6666666666666666,
              "#ed7953"
             ],
             [
              0.7777777777777778,
              "#fb9f3a"
             ],
             [
              0.8888888888888888,
              "#fdca26"
             ],
             [
              1,
              "#f0f921"
             ]
            ],
            "type": "surface"
           }
          ],
          "table": [
           {
            "cells": {
             "fill": {
              "color": "#EBF0F8"
             },
             "line": {
              "color": "white"
             }
            },
            "header": {
             "fill": {
              "color": "#C8D4E3"
             },
             "line": {
              "color": "white"
             }
            },
            "type": "table"
           }
          ]
         },
         "layout": {
          "annotationdefaults": {
           "arrowcolor": "#2a3f5f",
           "arrowhead": 0,
           "arrowwidth": 1
          },
          "autotypenumbers": "strict",
          "coloraxis": {
           "colorbar": {
            "outlinewidth": 0,
            "ticks": ""
           }
          },
          "colorscale": {
           "diverging": [
            [
             0,
             "#8e0152"
            ],
            [
             0.1,
             "#c51b7d"
            ],
            [
             0.2,
             "#de77ae"
            ],
            [
             0.3,
             "#f1b6da"
            ],
            [
             0.4,
             "#fde0ef"
            ],
            [
             0.5,
             "#f7f7f7"
            ],
            [
             0.6,
             "#e6f5d0"
            ],
            [
             0.7,
             "#b8e186"
            ],
            [
             0.8,
             "#7fbc41"
            ],
            [
             0.9,
             "#4d9221"
            ],
            [
             1,
             "#276419"
            ]
           ],
           "sequential": [
            [
             0,
             "#0d0887"
            ],
            [
             0.1111111111111111,
             "#46039f"
            ],
            [
             0.2222222222222222,
             "#7201a8"
            ],
            [
             0.3333333333333333,
             "#9c179e"
            ],
            [
             0.4444444444444444,
             "#bd3786"
            ],
            [
             0.5555555555555556,
             "#d8576b"
            ],
            [
             0.6666666666666666,
             "#ed7953"
            ],
            [
             0.7777777777777778,
             "#fb9f3a"
            ],
            [
             0.8888888888888888,
             "#fdca26"
            ],
            [
             1,
             "#f0f921"
            ]
           ],
           "sequentialminus": [
            [
             0,
             "#0d0887"
            ],
            [
             0.1111111111111111,
             "#46039f"
            ],
            [
             0.2222222222222222,
             "#7201a8"
            ],
            [
             0.3333333333333333,
             "#9c179e"
            ],
            [
             0.4444444444444444,
             "#bd3786"
            ],
            [
             0.5555555555555556,
             "#d8576b"
            ],
            [
             0.6666666666666666,
             "#ed7953"
            ],
            [
             0.7777777777777778,
             "#fb9f3a"
            ],
            [
             0.8888888888888888,
             "#fdca26"
            ],
            [
             1,
             "#f0f921"
            ]
           ]
          },
          "colorway": [
           "#636efa",
           "#EF553B",
           "#00cc96",
           "#ab63fa",
           "#FFA15A",
           "#19d3f3",
           "#FF6692",
           "#B6E880",
           "#FF97FF",
           "#FECB52"
          ],
          "font": {
           "color": "#2a3f5f"
          },
          "geo": {
           "bgcolor": "white",
           "lakecolor": "white",
           "landcolor": "#E5ECF6",
           "showlakes": true,
           "showland": true,
           "subunitcolor": "white"
          },
          "hoverlabel": {
           "align": "left"
          },
          "hovermode": "closest",
          "mapbox": {
           "style": "light"
          },
          "paper_bgcolor": "white",
          "plot_bgcolor": "#E5ECF6",
          "polar": {
           "angularaxis": {
            "gridcolor": "white",
            "linecolor": "white",
            "ticks": ""
           },
           "bgcolor": "#E5ECF6",
           "radialaxis": {
            "gridcolor": "white",
            "linecolor": "white",
            "ticks": ""
           }
          },
          "scene": {
           "xaxis": {
            "backgroundcolor": "#E5ECF6",
            "gridcolor": "white",
            "gridwidth": 2,
            "linecolor": "white",
            "showbackground": true,
            "ticks": "",
            "zerolinecolor": "white"
           },
           "yaxis": {
            "backgroundcolor": "#E5ECF6",
            "gridcolor": "white",
            "gridwidth": 2,
            "linecolor": "white",
            "showbackground": true,
            "ticks": "",
            "zerolinecolor": "white"
           },
           "zaxis": {
            "backgroundcolor": "#E5ECF6",
            "gridcolor": "white",
            "gridwidth": 2,
            "linecolor": "white",
            "showbackground": true,
            "ticks": "",
            "zerolinecolor": "white"
           }
          },
          "shapedefaults": {
           "line": {
            "color": "#2a3f5f"
           }
          },
          "ternary": {
           "aaxis": {
            "gridcolor": "white",
            "linecolor": "white",
            "ticks": ""
           },
           "baxis": {
            "gridcolor": "white",
            "linecolor": "white",
            "ticks": ""
           },
           "bgcolor": "#E5ECF6",
           "caxis": {
            "gridcolor": "white",
            "linecolor": "white",
            "ticks": ""
           }
          },
          "title": {
           "x": 0.05
          },
          "xaxis": {
           "automargin": true,
           "gridcolor": "white",
           "linecolor": "white",
           "ticks": "",
           "title": {
            "standoff": 15
           },
           "zerolinecolor": "white",
           "zerolinewidth": 2
          },
          "yaxis": {
           "automargin": true,
           "gridcolor": "white",
           "linecolor": "white",
           "ticks": "",
           "title": {
            "standoff": 15
           },
           "zerolinecolor": "white",
           "zerolinewidth": 2
          }
         }
        },
        "title": {
         "text": "Density Plot of Payload Mass by Launch Site"
        },
        "xaxis": {
         "anchor": "y",
         "domain": [
          0,
          0.7363
         ],
         "title": {
          "text": "PayloadMass"
         }
        },
        "xaxis2": {
         "anchor": "y2",
         "domain": [
          0.7413,
          1
         ],
         "matches": "x2",
         "showgrid": true,
         "showline": false,
         "showticklabels": false,
         "ticks": ""
        },
        "xaxis3": {
         "anchor": "y3",
         "domain": [
          0,
          0.7363
         ],
         "matches": "x",
         "showgrid": true,
         "showticklabels": false
        },
        "xaxis4": {
         "anchor": "y4",
         "domain": [
          0.7413,
          1
         ],
         "matches": "x2",
         "showgrid": true,
         "showline": false,
         "showticklabels": false,
         "ticks": ""
        },
        "yaxis": {
         "anchor": "x",
         "domain": [
          0,
          0.7326
         ],
         "title": {
          "text": "index"
         }
        },
        "yaxis2": {
         "anchor": "x2",
         "domain": [
          0,
          0.7326
         ],
         "matches": "y",
         "showgrid": true,
         "showticklabels": false
        },
        "yaxis3": {
         "anchor": "x3",
         "domain": [
          0.7426,
          1
         ],
         "matches": "y3",
         "showgrid": true,
         "showline": false,
         "showticklabels": false,
         "ticks": ""
        },
        "yaxis4": {
         "anchor": "x4",
         "domain": [
          0.7426,
          1
         ],
         "matches": "y3",
         "showgrid": true,
         "showline": false,
         "showticklabels": false,
         "ticks": ""
        }
       }
      }
     },
     "metadata": {},
     "output_type": "display_data"
    }
   ],
   "source": [
    "fig = ptly.density_contour(data, x='PayloadMass', color='LaunchSite', \n",
    "                         labels={'payload_mass': 'Payload Mass (kg)', 'LaunchSite': 'Launch Site'},\n",
    "                         title=\"Density Plot of Payload Mass by Launch Site\",\n",
    "                         marginal_x='histogram', marginal_y='histogram')  # Adds histograms on the margins\n",
    "\n",
    "# Show the plot\n",
    "fig.show()"
   ]
  },
  {
   "cell_type": "code",
   "execution_count": null,
   "metadata": {},
   "outputs": [],
   "source": []
  }
 ],
 "metadata": {
  "kernelspec": {
   "display_name": "falcon_env",
   "language": "python",
   "name": "python3"
  },
  "language_info": {
   "codemirror_mode": {
    "name": "ipython",
    "version": 3
   },
   "file_extension": ".py",
   "mimetype": "text/x-python",
   "name": "python",
   "nbconvert_exporter": "python",
   "pygments_lexer": "ipython3",
   "version": "3.10.11"
  }
 },
 "nbformat": 4,
 "nbformat_minor": 2
}
