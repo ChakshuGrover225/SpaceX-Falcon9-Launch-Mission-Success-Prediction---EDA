{
 "cells": [
  {
   "cell_type": "code",
   "execution_count": 1,
   "metadata": {},
   "outputs": [],
   "source": [
    "#libraries And auxiliary Variables\n",
    "\n",
    "import pandas as pd\n",
    "import numpy as np\n",
    "\n",
    "\n",
    "\n",
    "\n",
    "\n",
    "\n",
    "data_path = \"falcon_9_cleaned_data.csv\"\n"
   ]
  },
  {
   "cell_type": "markdown",
   "metadata": {},
   "source": [
    "### Understand the Data Structure"
   ]
  },
  {
   "cell_type": "code",
   "execution_count": 3,
   "metadata": {},
   "outputs": [],
   "source": [
    "dataset = pd.read_csv(data_path)\n"
   ]
  },
  {
   "cell_type": "markdown",
   "metadata": {},
   "source": [
    "##### Assessing the Dataset's size, types, and format"
   ]
  },
  {
   "cell_type": "code",
   "execution_count": 9,
   "metadata": {},
   "outputs": [
    {
     "data": {
      "text/plain": [
       "FlightNumber        int64\n",
       "date               object\n",
       "BoosterVersion     object\n",
       "PayloadMass       float64\n",
       "LaunchSite         object\n",
       "Latitude          float64\n",
       "Longitude         float64\n",
       "Orbit              object\n",
       "Flights           float64\n",
       "Reused               bool\n",
       "GridFins             bool\n",
       "Legs                 bool\n",
       "LandingPad         object\n",
       "ReusedCount       float64\n",
       "Serial             object\n",
       "Block             float64\n",
       "Outcome            object\n",
       "dtype: object"
      ]
     },
     "execution_count": 9,
     "metadata": {},
     "output_type": "execute_result"
    }
   ],
   "source": [
    "dataset.dtypes"
   ]
  },
  {
   "cell_type": "code",
   "execution_count": 25,
   "metadata": {},
   "outputs": [
    {
     "data": {
      "text/plain": [
       "(167, 17)"
      ]
     },
     "execution_count": 25,
     "metadata": {},
     "output_type": "execute_result"
    }
   ],
   "source": [
    "dataset.shape"
   ]
  },
  {
   "cell_type": "code",
   "execution_count": 26,
   "metadata": {},
   "outputs": [
    {
     "data": {
      "text/plain": [
       "FlightNumber       0\n",
       "date               0\n",
       "BoosterVersion     0\n",
       "PayloadMass        0\n",
       "LaunchSite         0\n",
       "Latitude           0\n",
       "Longitude          0\n",
       "Orbit              0\n",
       "Flights            0\n",
       "Reused             0\n",
       "GridFins           0\n",
       "Legs               0\n",
       "LandingPad        26\n",
       "ReusedCount        0\n",
       "Serial             0\n",
       "Block              0\n",
       "Outcome            0\n",
       "dtype: int64"
      ]
     },
     "execution_count": 26,
     "metadata": {},
     "output_type": "execute_result"
    }
   ],
   "source": [
    "dataset.isnull().sum()"
   ]
  },
  {
   "cell_type": "code",
   "execution_count": 27,
   "metadata": {},
   "outputs": [
    {
     "data": {
      "text/html": [
       "<div>\n",
       "<style scoped>\n",
       "    .dataframe tbody tr th:only-of-type {\n",
       "        vertical-align: middle;\n",
       "    }\n",
       "\n",
       "    .dataframe tbody tr th {\n",
       "        vertical-align: top;\n",
       "    }\n",
       "\n",
       "    .dataframe thead th {\n",
       "        text-align: right;\n",
       "    }\n",
       "</style>\n",
       "<table border=\"1\" class=\"dataframe\">\n",
       "  <thead>\n",
       "    <tr style=\"text-align: right;\">\n",
       "      <th></th>\n",
       "      <th>FlightNumber</th>\n",
       "      <th>date</th>\n",
       "      <th>BoosterVersion</th>\n",
       "      <th>PayloadMass</th>\n",
       "      <th>LaunchSite</th>\n",
       "      <th>Latitude</th>\n",
       "      <th>Longitude</th>\n",
       "      <th>Orbit</th>\n",
       "      <th>Flights</th>\n",
       "      <th>Reused</th>\n",
       "      <th>GridFins</th>\n",
       "      <th>Legs</th>\n",
       "      <th>LandingPad</th>\n",
       "      <th>ReusedCount</th>\n",
       "      <th>Serial</th>\n",
       "      <th>Block</th>\n",
       "      <th>Outcome</th>\n",
       "    </tr>\n",
       "  </thead>\n",
       "  <tbody>\n",
       "    <tr>\n",
       "      <th>0</th>\n",
       "      <td>1</td>\n",
       "      <td>2010-06-04</td>\n",
       "      <td>Falcon 9</td>\n",
       "      <td>8183.607718</td>\n",
       "      <td>CCSFS SLC 40</td>\n",
       "      <td>28.561857</td>\n",
       "      <td>-80.577366</td>\n",
       "      <td>LEO</td>\n",
       "      <td>1.0</td>\n",
       "      <td>False</td>\n",
       "      <td>False</td>\n",
       "      <td>False</td>\n",
       "      <td>NaN</td>\n",
       "      <td>0.0</td>\n",
       "      <td>B0003</td>\n",
       "      <td>1.0</td>\n",
       "      <td>None None</td>\n",
       "    </tr>\n",
       "  </tbody>\n",
       "</table>\n",
       "</div>"
      ],
      "text/plain": [
       "   FlightNumber        date BoosterVersion  PayloadMass    LaunchSite  \\\n",
       "0             1  2010-06-04       Falcon 9  8183.607718  CCSFS SLC 40   \n",
       "\n",
       "    Latitude  Longitude Orbit  Flights  Reused  GridFins   Legs LandingPad  \\\n",
       "0  28.561857 -80.577366   LEO      1.0   False     False  False        NaN   \n",
       "\n",
       "   ReusedCount Serial  Block    Outcome  \n",
       "0          0.0  B0003    1.0  None None  "
      ]
     },
     "execution_count": 27,
     "metadata": {},
     "output_type": "execute_result"
    }
   ],
   "source": [
    "dataset.head(n=1) #sample"
   ]
  },
  {
   "cell_type": "code",
   "execution_count": 32,
   "metadata": {},
   "outputs": [
    {
     "name": "stdout",
     "output_type": "stream",
     "text": [
      "['Falcon 9']\n",
      "\n",
      "\n",
      "\n",
      "\n",
      "\n",
      "['CCSFS SLC 40' 'VAFB SLC 4E' 'KSC LC 39A']\n",
      "\n",
      "\n",
      "\n",
      "\n",
      "\n",
      "['LEO' 'ISS' 'PO' 'GTO' 'ES-L1' 'SSO' 'HEO' 'MEO' 'VLEO' 'SO' 'GEO' 'TLI']\n",
      "\n",
      "\n",
      "\n",
      "\n",
      "\n",
      "['None None' 'False Ocean' 'True Ocean' 'False ASDS' 'None ASDS'\n",
      " 'True RTLS' 'True ASDS' 'False RTLS']\n",
      "\n",
      "\n",
      "\n",
      "\n",
      "\n",
      "[nan '5e9e3032383ecb761634e7cb' '5e9e3032383ecb6bb234e7ca'\n",
      " '5e9e3032383ecb267a34e7c7' '5e9e3033383ecbb9e534e7cc'\n",
      " '5e9e3032383ecb554034e7c9' '5e9e3033383ecb075134e7cd']\n",
      "\n",
      "\n",
      "\n",
      "\n",
      "\n"
     ]
    }
   ],
   "source": [
    "# Unique values in the DataSet\n",
    "\n",
    "print(dataset['BoosterVersion'].unique())\n",
    "\n",
    "print(\"\\n\\n\\n\\n\")\n",
    "\n",
    "print(dataset['LaunchSite'].unique())\n",
    "\n",
    "print(\"\\n\\n\\n\\n\")\n",
    "\n",
    "print(dataset['Orbit'].unique())\n",
    "\n",
    "print(\"\\n\\n\\n\\n\")\n",
    "\n",
    "print(dataset['Outcome'].unique())\n",
    "\n",
    "print(\"\\n\\n\\n\\n\")\n",
    "\n",
    "print(dataset['LandingPad'].unique())\n",
    "\n",
    "print(\"\\n\\n\\n\\n\")"
   ]
  },
  {
   "cell_type": "code",
   "execution_count": null,
   "metadata": {},
   "outputs": [
    {
     "data": {
      "text/plain": [
       "count      167.000000\n",
       "mean      8190.139593\n",
       "std       5160.288058\n",
       "min        330.000000\n",
       "25%       3414.000000\n",
       "50%       8183.607718\n",
       "75%      13260.000000\n",
       "max      15600.000000\n",
       "Name: PayloadMass, dtype: float64"
      ]
     },
     "execution_count": 34,
     "metadata": {},
     "output_type": "execute_result"
    }
   ],
   "source": [
    "dataset['PayloadMass'].describe()\n",
    "\n",
    "\n",
    "#Meaning:\n",
    "#   average weight in kg    : ~8200 Kg\n",
    "#   Max noted capacity      :  15600 kg\n",
    "#   Min used Capacity       :  330 Kg\n"
   ]
  },
  {
   "cell_type": "code",
   "execution_count": null,
   "metadata": {},
   "outputs": [
    {
     "data": {
      "text/plain": [
       "count    167.000000\n",
       "mean       5.502994\n",
       "std        4.695389\n",
       "min        0.000000\n",
       "25%        1.000000\n",
       "50%        5.000000\n",
       "75%        9.000000\n",
       "max       13.000000\n",
       "Name: ReusedCount, dtype: float64"
      ]
     },
     "execution_count": 35,
     "metadata": {},
     "output_type": "execute_result"
    }
   ],
   "source": [
    "dataset['ReusedCount'].describe()\n",
    "\n",
    "# takeaway:\n",
    "#   a Falcon-9 Booster is (on average) is used 11 out of 20 times\n",
    "#   maximum, it is Used 13 times"
   ]
  },
  {
   "cell_type": "code",
   "execution_count": 53,
   "metadata": {},
   "outputs": [
    {
     "name": "stdout",
     "output_type": "stream",
     "text": [
      "GridFins\n",
      "True     88.0\n",
      "False    12.0\n",
      "Name: count, dtype: float64\n"
     ]
    }
   ],
   "source": [
    "gridfins_Value_count = dataset['GridFins'].value_counts()\n",
    "\n",
    "gridfins_true_percentage = dataset['GridFins'].value_counts()/gridfins_Value_count.sum()\n",
    "print(gridfins_true_percentage.round(2) * 100)\n",
    "\n",
    "\n",
    "# Gridfins are Used 88% of the times\n"
   ]
  },
  {
   "cell_type": "code",
   "execution_count": null,
   "metadata": {},
   "outputs": [],
   "source": []
  },
  {
   "cell_type": "markdown",
   "metadata": {},
   "source": []
  }
 ],
 "metadata": {
  "kernelspec": {
   "display_name": "falcon_env",
   "language": "python",
   "name": "python3"
  },
  "language_info": {
   "codemirror_mode": {
    "name": "ipython",
    "version": 3
   },
   "file_extension": ".py",
   "mimetype": "text/x-python",
   "name": "python",
   "nbconvert_exporter": "python",
   "pygments_lexer": "ipython3",
   "version": "3.12.5"
  }
 },
 "nbformat": 4,
 "nbformat_minor": 2
}
