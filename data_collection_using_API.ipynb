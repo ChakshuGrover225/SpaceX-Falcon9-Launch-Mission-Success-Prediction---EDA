{
 "cells": [
  {
   "cell_type": "code",
   "execution_count": 67,
   "metadata": {},
   "outputs": [],
   "source": [
    "import requests                         # to make HTTP request; gets Data from URL\n",
    "\n",
    "import numpy as np, pandas as pd        # managing the Data\n",
    "\n",
    "from datetime import datetime                         # Lets us represent Dates\n"
   ]
  },
  {
   "cell_type": "markdown",
   "metadata": {},
   "source": [
    "### Sources for Data:\n",
    "Rocket Data: https://docs.spacexdata.com/#16c58b5e-44de-4183-b858-0fae51d242a5\n",
    "\n",
    "SpaceX V4 Data: https://github.com/r-spacex/SpaceX-API/blob/master/docs/rockets/v4/query.md"
   ]
  },
  {
   "cell_type": "code",
   "execution_count": 69,
   "metadata": {},
   "outputs": [
    {
     "name": "stdout",
     "output_type": "stream",
     "text": [
      " start____ 2000-01-01 00:00:00  |   end_____2023-01-01 00:00:00\n",
      "(205, 43)\n"
     ]
    }
   ],
   "source": [
    "# to extract Launch data between certain Start and End Date:\n",
    "\n",
    "\n",
    "\n",
    "def get_launch_data_between_dates(start_input, end_input):\n",
    "\n",
    "    launch_url = \"https://api.spacexdata.com/v4/launches\"\n",
    "    \n",
    "    api_response = requests.get(launch_url)\n",
    "\n",
    "    if api_response.status_code != 200:\n",
    "        print(\"Occured Error in API response...\")\n",
    "        return\n",
    "\n",
    "    else:\n",
    "        #raw_launch_data = response.json()\n",
    "        launch_data = pd.json_normalize(api_response.json())\n",
    "        launch_data['date_utc'] = launch_data['date_utc'].str[:10]\n",
    "        launch_data['date_utc'] = pd.to_datetime(launch_data['date_utc'])\n",
    "\n",
    "        start_date = pd.to_datetime(start_input)\n",
    "        end_date = pd.to_datetime(end_input)\n",
    "        print(f\" start____ {start_date}  |   end_____{end_date}\")\n",
    "\n",
    "        launch_data_cleared = launch_data[(launch_data['date_utc'] >= start_date) & (launch_data['date_utc'] <= end_date)]\n",
    "        return launch_data_cleared\n",
    "\n",
    "        \n",
    "\n",
    "\n",
    "launch_data = get_launch_data_between_dates(start_input=\"2000-01-01\" , end_input=\"2023-01-01\")\n",
    "print(launch_data.shape)"
   ]
  },
  {
   "cell_type": "code",
   "execution_count": 70,
   "metadata": {},
   "outputs": [
    {
     "data": {
      "text/html": [
       "<div>\n",
       "<style scoped>\n",
       "    .dataframe tbody tr th:only-of-type {\n",
       "        vertical-align: middle;\n",
       "    }\n",
       "\n",
       "    .dataframe tbody tr th {\n",
       "        vertical-align: top;\n",
       "    }\n",
       "\n",
       "    .dataframe thead th {\n",
       "        text-align: right;\n",
       "    }\n",
       "</style>\n",
       "<table border=\"1\" class=\"dataframe\">\n",
       "  <thead>\n",
       "    <tr style=\"text-align: right;\">\n",
       "      <th></th>\n",
       "      <th>rocket</th>\n",
       "      <th>payloads</th>\n",
       "      <th>launchpad</th>\n",
       "      <th>cores</th>\n",
       "      <th>flight_number</th>\n",
       "      <th>date_utc</th>\n",
       "    </tr>\n",
       "  </thead>\n",
       "  <tbody>\n",
       "    <tr>\n",
       "      <th>0</th>\n",
       "      <td>5e9d0d95eda69955f709d1eb</td>\n",
       "      <td>[5eb0e4b5b6c3bb0006eeb1e1]</td>\n",
       "      <td>5e9e4502f5090995de566f86</td>\n",
       "      <td>[{'core': '5e9e289df35918033d3b2623', 'flight'...</td>\n",
       "      <td>1</td>\n",
       "      <td>2006-03-24</td>\n",
       "    </tr>\n",
       "  </tbody>\n",
       "</table>\n",
       "</div>"
      ],
      "text/plain": [
       "                     rocket                    payloads  \\\n",
       "0  5e9d0d95eda69955f709d1eb  [5eb0e4b5b6c3bb0006eeb1e1]   \n",
       "\n",
       "                  launchpad  \\\n",
       "0  5e9e4502f5090995de566f86   \n",
       "\n",
       "                                               cores  flight_number   date_utc  \n",
       "0  [{'core': '5e9e289df35918033d3b2623', 'flight'...              1 2006-03-24  "
      ]
     },
     "execution_count": 70,
     "metadata": {},
     "output_type": "execute_result"
    }
   ],
   "source": [
    "launch_data = launch_data[['rocket', 'payloads', 'launchpad', 'cores', 'flight_number', 'date_utc']]\n",
    "\n",
    "launch_data.head(n=1)"
   ]
  },
  {
   "cell_type": "code",
   "execution_count": null,
   "metadata": {},
   "outputs": [],
   "source": []
  },
  {
   "cell_type": "code",
   "execution_count": 71,
   "metadata": {},
   "outputs": [
    {
     "data": {
      "text/html": [
       "<div>\n",
       "<style scoped>\n",
       "    .dataframe tbody tr th:only-of-type {\n",
       "        vertical-align: middle;\n",
       "    }\n",
       "\n",
       "    .dataframe tbody tr th {\n",
       "        vertical-align: top;\n",
       "    }\n",
       "\n",
       "    .dataframe thead th {\n",
       "        text-align: right;\n",
       "    }\n",
       "</style>\n",
       "<table border=\"1\" class=\"dataframe\">\n",
       "  <thead>\n",
       "    <tr style=\"text-align: right;\">\n",
       "      <th></th>\n",
       "      <th>rocket</th>\n",
       "      <th>payloads</th>\n",
       "      <th>launchpad</th>\n",
       "      <th>cores</th>\n",
       "      <th>flight_number</th>\n",
       "      <th>date_utc</th>\n",
       "    </tr>\n",
       "  </thead>\n",
       "  <tbody>\n",
       "    <tr>\n",
       "      <th>0</th>\n",
       "      <td>5e9d0d95eda69955f709d1eb</td>\n",
       "      <td>5eb0e4b5b6c3bb0006eeb1e1</td>\n",
       "      <td>5e9e4502f5090995de566f86</td>\n",
       "      <td>{'core': '5e9e289df35918033d3b2623', 'flight':...</td>\n",
       "      <td>1</td>\n",
       "      <td>2006-03-24</td>\n",
       "    </tr>\n",
       "    <tr>\n",
       "      <th>1</th>\n",
       "      <td>5e9d0d95eda69955f709d1eb</td>\n",
       "      <td>5eb0e4b6b6c3bb0006eeb1e2</td>\n",
       "      <td>5e9e4502f5090995de566f86</td>\n",
       "      <td>{'core': '5e9e289ef35918416a3b2624', 'flight':...</td>\n",
       "      <td>2</td>\n",
       "      <td>2007-03-21</td>\n",
       "    </tr>\n",
       "    <tr>\n",
       "      <th>3</th>\n",
       "      <td>5e9d0d95eda69955f709d1eb</td>\n",
       "      <td>5eb0e4b7b6c3bb0006eeb1e5</td>\n",
       "      <td>5e9e4502f5090995de566f86</td>\n",
       "      <td>{'core': '5e9e289ef3591855dc3b2626', 'flight':...</td>\n",
       "      <td>4</td>\n",
       "      <td>2008-09-28</td>\n",
       "    </tr>\n",
       "  </tbody>\n",
       "</table>\n",
       "</div>"
      ],
      "text/plain": [
       "                     rocket                  payloads  \\\n",
       "0  5e9d0d95eda69955f709d1eb  5eb0e4b5b6c3bb0006eeb1e1   \n",
       "1  5e9d0d95eda69955f709d1eb  5eb0e4b6b6c3bb0006eeb1e2   \n",
       "3  5e9d0d95eda69955f709d1eb  5eb0e4b7b6c3bb0006eeb1e5   \n",
       "\n",
       "                  launchpad  \\\n",
       "0  5e9e4502f5090995de566f86   \n",
       "1  5e9e4502f5090995de566f86   \n",
       "3  5e9e4502f5090995de566f86   \n",
       "\n",
       "                                               cores  flight_number   date_utc  \n",
       "0  {'core': '5e9e289df35918033d3b2623', 'flight':...              1 2006-03-24  \n",
       "1  {'core': '5e9e289ef35918416a3b2624', 'flight':...              2 2007-03-21  \n",
       "3  {'core': '5e9e289ef3591855dc3b2626', 'flight':...              4 2008-09-28  "
      ]
     },
     "execution_count": 71,
     "metadata": {},
     "output_type": "execute_result"
    }
   ],
   "source": [
    "# clearing the Data:\n",
    "#   -> selecting core==1  \n",
    "#   -> selecting payload==1 \n",
    "\n",
    "\n",
    "\n",
    "launch_data = launch_data[launch_data['cores'].map(len) == 1]\n",
    "launch_data = launch_data[launch_data['payloads'].map(len) == 1]\n",
    "\n",
    "launch_data['cores'] = launch_data['cores'].map(lambda x : x[0])\n",
    "launch_data['payloads'] = launch_data['payloads'].map(lambda x : x[0])\n",
    "\n",
    "\n",
    "launch_data.head(n=3)"
   ]
  },
  {
   "cell_type": "markdown",
   "metadata": {},
   "source": [
    "Lets undermine the hidden data behind this Data.\n",
    "\n",
    "from <code>Rocket</code>, we can know about: boosterversion, <br>\n",
    "from <code>Payload</code>, we can know about: payload_mass, orbit, <br>\n",
    "from <code>launchpad</code>, we can know about: launchsite, lonigtude, latitude <br>\n",
    "from <code>cores</code>, we can get data like: flights, gridfins, reused, legs, landingpad, blocks etc\n"
   ]
  },
  {
   "cell_type": "code",
   "execution_count": null,
   "metadata": {},
   "outputs": [],
   "source": [
    "# setting up global variables\n",
    "\n"
   ]
  },
  {
   "cell_type": "code",
   "execution_count": 79,
   "metadata": {},
   "outputs": [],
   "source": [
    "\n",
    "BoosterVersion = []\n",
    "\n",
    "def getBoosterVersion(data):\n",
    "    for rocket_id in data['rocket']:\n",
    "        response = requests.get(\"https://api.spacexdata.com/v4/rockets/\"+ str(rocket_id)).json()\n",
    "        BoosterVersion.append(response['name'])\n",
    "    \n",
    "    return \n",
    "\n",
    "\n",
    "getBoosterVersion(launch_data)\n",
    "\n"
   ]
  },
  {
   "cell_type": "code",
   "execution_count": 81,
   "metadata": {},
   "outputs": [],
   "source": [
    "Latitude = []\n",
    "Longitude = []\n",
    "LaunchSite = []\n",
    "\n",
    "def getlaunchData(data):\n",
    "    for launchpad_id in data['launchpad']:\n",
    "        if launchpad_id:\n",
    "            response = requests.get(\"https://api.spacexdata.com/v4/launchpads/\"+str(launchpad_id)).json()\n",
    "            Latitude.append(response['latitude'])\n",
    "            Longitude.append(response['longitude'])\n",
    "            LaunchSite.append(response['name'])\n",
    "\n",
    "getlaunchData(launch_data)"
   ]
  },
  {
   "cell_type": "code",
   "execution_count": 87,
   "metadata": {},
   "outputs": [],
   "source": [
    "Orbit = []\n",
    "PayloadMass = []\n",
    "\n",
    "def getPayloadData(data):\n",
    "    for payload_id in data['payloads']:\n",
    "        if payload_id:\n",
    "            response = requests.get(\"https://api.spacexdata.com/v4/payloads/\"+str(payload_id)).json()\n",
    "            Orbit.append(response['orbit'])\n",
    "            PayloadMass.append(response['mass_kg'])\n",
    "\n",
    "\n",
    "getPayloadData(launch_data)\n"
   ]
  },
  {
   "cell_type": "code",
   "execution_count": null,
   "metadata": {},
   "outputs": [
    {
     "name": "stdout",
     "output_type": "stream",
     "text": [
      " 177     177\n"
     ]
    }
   ],
   "source": []
  },
  {
   "cell_type": "code",
   "execution_count": 92,
   "metadata": {},
   "outputs": [],
   "source": [
    "Outcome = []\n",
    "Flights = []\n",
    "GridFins = []\n",
    "Reused = []\n",
    "Legs = []\n",
    "LandingPad = []\n",
    "Block = []\n",
    "ReusedCount = []\n",
    "Serial = []\n",
    "\n",
    "\n",
    "\n",
    "def getCoreData(data):\n",
    "    for core_id in data['cores']:\n",
    "        if core_id['core'] != None:\n",
    "            response = requests.get(\"https://api.spacexdata.com/v4/cores/\"+str(core_id['core'])).json()\n",
    "            Block.append(response['block'])\n",
    "            ReusedCount.append(response['reuse_count'])\n",
    "            Serial.append(response['serial'])\n",
    "        else:\n",
    "            Block.append(None)\n",
    "            ReusedCount.append(None)\n",
    "            Serial.append(None)\n",
    "\n",
    "        Outcome.append(str(core_id['landing_success'])+' '+str(core_id['landing_type']))\n",
    "        Flights.append(core_id['flight'])\n",
    "        GridFins.append(core_id['gridfins'])\n",
    "        Reused.append(core_id['reused'])\n",
    "        Legs.append(core_id['legs'])\n",
    "        LandingPad.append(core_id['landpad'])\n",
    "\n",
    "\n",
    "\n",
    "getCoreData(launch_data)\n",
    "            "
   ]
  },
  {
   "cell_type": "code",
   "execution_count": 112,
   "metadata": {},
   "outputs": [],
   "source": [
    "launch_data_dict = {\n",
    "    'FlightNumber'  :   list(launch_data['flight_number']),\n",
    "    'date'          :   list(launch_data['date_utc']),\n",
    "    'BoosterVersion':   BoosterVersion,\n",
    "    'PayloadMass'   :   PayloadMass,\n",
    "    'LaunchSite'    :   LaunchSite,\n",
    "    'Latitude'      :   Latitude,\n",
    "    'Longitude'     :   Longitude,\n",
    "    'Orbit'         :   Orbit,\n",
    "    'Flights'       :   Flights,\n",
    "    'Reused'        :   Reused,\n",
    "    'GridFins'      :   GridFins,\n",
    "    'Legs'          :   Legs,\n",
    "    'LandingPad'    :   LandingPad,\n",
    "    'ReusedCount'   :   ReusedCount,\n",
    "    'Serial'        :   Serial,\n",
    "    'Block'         :   Block,\n",
    "    'Outcome'       :   Outcome\n",
    "\n",
    "}   "
   ]
  },
  {
   "cell_type": "code",
   "execution_count": 113,
   "metadata": {},
   "outputs": [
    {
     "data": {
      "text/html": [
       "<div>\n",
       "<style scoped>\n",
       "    .dataframe tbody tr th:only-of-type {\n",
       "        vertical-align: middle;\n",
       "    }\n",
       "\n",
       "    .dataframe tbody tr th {\n",
       "        vertical-align: top;\n",
       "    }\n",
       "\n",
       "    .dataframe thead th {\n",
       "        text-align: right;\n",
       "    }\n",
       "</style>\n",
       "<table border=\"1\" class=\"dataframe\">\n",
       "  <thead>\n",
       "    <tr style=\"text-align: right;\">\n",
       "      <th></th>\n",
       "      <th>FlightNumber</th>\n",
       "      <th>date</th>\n",
       "      <th>BoosterVersion</th>\n",
       "      <th>PayloadMass</th>\n",
       "      <th>LaunchSite</th>\n",
       "      <th>Latitude</th>\n",
       "      <th>Longitude</th>\n",
       "      <th>Orbit</th>\n",
       "      <th>Flights</th>\n",
       "      <th>Reused</th>\n",
       "      <th>GridFins</th>\n",
       "      <th>Legs</th>\n",
       "      <th>LandingPad</th>\n",
       "      <th>ReusedCount</th>\n",
       "      <th>Serial</th>\n",
       "      <th>Block</th>\n",
       "      <th>Outcome</th>\n",
       "    </tr>\n",
       "  </thead>\n",
       "  <tbody>\n",
       "    <tr>\n",
       "      <th>0</th>\n",
       "      <td>1</td>\n",
       "      <td>2006-03-24</td>\n",
       "      <td>Falcon 1</td>\n",
       "      <td>20.0</td>\n",
       "      <td>Kwajalein Atoll</td>\n",
       "      <td>9.047721</td>\n",
       "      <td>167.743129</td>\n",
       "      <td>LEO</td>\n",
       "      <td>1.0</td>\n",
       "      <td>False</td>\n",
       "      <td>False</td>\n",
       "      <td>False</td>\n",
       "      <td>None</td>\n",
       "      <td>0.0</td>\n",
       "      <td>Merlin1A</td>\n",
       "      <td>NaN</td>\n",
       "      <td>None None</td>\n",
       "    </tr>\n",
       "    <tr>\n",
       "      <th>1</th>\n",
       "      <td>2</td>\n",
       "      <td>2007-03-21</td>\n",
       "      <td>Falcon 1</td>\n",
       "      <td>NaN</td>\n",
       "      <td>Kwajalein Atoll</td>\n",
       "      <td>9.047721</td>\n",
       "      <td>167.743129</td>\n",
       "      <td>LEO</td>\n",
       "      <td>1.0</td>\n",
       "      <td>False</td>\n",
       "      <td>False</td>\n",
       "      <td>False</td>\n",
       "      <td>None</td>\n",
       "      <td>0.0</td>\n",
       "      <td>Merlin2A</td>\n",
       "      <td>NaN</td>\n",
       "      <td>None None</td>\n",
       "    </tr>\n",
       "    <tr>\n",
       "      <th>2</th>\n",
       "      <td>4</td>\n",
       "      <td>2008-09-28</td>\n",
       "      <td>Falcon 1</td>\n",
       "      <td>165.0</td>\n",
       "      <td>Kwajalein Atoll</td>\n",
       "      <td>9.047721</td>\n",
       "      <td>167.743129</td>\n",
       "      <td>LEO</td>\n",
       "      <td>1.0</td>\n",
       "      <td>False</td>\n",
       "      <td>False</td>\n",
       "      <td>False</td>\n",
       "      <td>None</td>\n",
       "      <td>0.0</td>\n",
       "      <td>Merlin2C</td>\n",
       "      <td>NaN</td>\n",
       "      <td>None None</td>\n",
       "    </tr>\n",
       "  </tbody>\n",
       "</table>\n",
       "</div>"
      ],
      "text/plain": [
       "   FlightNumber       date BoosterVersion  PayloadMass       LaunchSite  \\\n",
       "0             1 2006-03-24       Falcon 1         20.0  Kwajalein Atoll   \n",
       "1             2 2007-03-21       Falcon 1          NaN  Kwajalein Atoll   \n",
       "2             4 2008-09-28       Falcon 1        165.0  Kwajalein Atoll   \n",
       "\n",
       "   Latitude   Longitude Orbit  Flights Reused GridFins   Legs LandingPad  \\\n",
       "0  9.047721  167.743129   LEO      1.0  False    False  False       None   \n",
       "1  9.047721  167.743129   LEO      1.0  False    False  False       None   \n",
       "2  9.047721  167.743129   LEO      1.0  False    False  False       None   \n",
       "\n",
       "   ReusedCount    Serial  Block    Outcome  \n",
       "0          0.0  Merlin1A    NaN  None None  \n",
       "1          0.0  Merlin2A    NaN  None None  \n",
       "2          0.0  Merlin2C    NaN  None None  "
      ]
     },
     "execution_count": 113,
     "metadata": {},
     "output_type": "execute_result"
    }
   ],
   "source": [
    "new_launch_data = pd.DataFrame(launch_data_dict)\n",
    "\n",
    "\n",
    "new_launch_data.head(n=3)"
   ]
  },
  {
   "cell_type": "markdown",
   "metadata": {},
   "source": [
    "Filter the Data Where Booster is falcon 9\n"
   ]
  },
  {
   "cell_type": "code",
   "execution_count": 114,
   "metadata": {},
   "outputs": [
    {
     "data": {
      "text/plain": [
       "(173, 17)"
      ]
     },
     "execution_count": 114,
     "metadata": {},
     "output_type": "execute_result"
    }
   ],
   "source": [
    "falcon_9_data = new_launch_data[new_launch_data['BoosterVersion']=='Falcon 9']\n",
    "falcon_9_data.shape"
   ]
  },
  {
   "cell_type": "code",
   "execution_count": 115,
   "metadata": {},
   "outputs": [
    {
     "data": {
      "text/html": [
       "<div>\n",
       "<style scoped>\n",
       "    .dataframe tbody tr th:only-of-type {\n",
       "        vertical-align: middle;\n",
       "    }\n",
       "\n",
       "    .dataframe tbody tr th {\n",
       "        vertical-align: top;\n",
       "    }\n",
       "\n",
       "    .dataframe thead th {\n",
       "        text-align: right;\n",
       "    }\n",
       "</style>\n",
       "<table border=\"1\" class=\"dataframe\">\n",
       "  <thead>\n",
       "    <tr style=\"text-align: right;\">\n",
       "      <th></th>\n",
       "      <th>FlightNumber</th>\n",
       "      <th>date</th>\n",
       "      <th>BoosterVersion</th>\n",
       "      <th>PayloadMass</th>\n",
       "      <th>LaunchSite</th>\n",
       "      <th>Latitude</th>\n",
       "      <th>Longitude</th>\n",
       "      <th>Orbit</th>\n",
       "      <th>Flights</th>\n",
       "      <th>Reused</th>\n",
       "      <th>GridFins</th>\n",
       "      <th>Legs</th>\n",
       "      <th>LandingPad</th>\n",
       "      <th>ReusedCount</th>\n",
       "      <th>Serial</th>\n",
       "      <th>Block</th>\n",
       "      <th>Outcome</th>\n",
       "    </tr>\n",
       "  </thead>\n",
       "  <tbody>\n",
       "    <tr>\n",
       "      <th>4</th>\n",
       "      <td>1</td>\n",
       "      <td>2010-06-04</td>\n",
       "      <td>Falcon 9</td>\n",
       "      <td>NaN</td>\n",
       "      <td>CCSFS SLC 40</td>\n",
       "      <td>28.561857</td>\n",
       "      <td>-80.577366</td>\n",
       "      <td>LEO</td>\n",
       "      <td>1.0</td>\n",
       "      <td>False</td>\n",
       "      <td>False</td>\n",
       "      <td>False</td>\n",
       "      <td>None</td>\n",
       "      <td>0.0</td>\n",
       "      <td>B0003</td>\n",
       "      <td>1.0</td>\n",
       "      <td>None None</td>\n",
       "    </tr>\n",
       "    <tr>\n",
       "      <th>5</th>\n",
       "      <td>2</td>\n",
       "      <td>2012-05-22</td>\n",
       "      <td>Falcon 9</td>\n",
       "      <td>525.0</td>\n",
       "      <td>CCSFS SLC 40</td>\n",
       "      <td>28.561857</td>\n",
       "      <td>-80.577366</td>\n",
       "      <td>LEO</td>\n",
       "      <td>1.0</td>\n",
       "      <td>False</td>\n",
       "      <td>False</td>\n",
       "      <td>False</td>\n",
       "      <td>None</td>\n",
       "      <td>0.0</td>\n",
       "      <td>B0005</td>\n",
       "      <td>1.0</td>\n",
       "      <td>None None</td>\n",
       "    </tr>\n",
       "    <tr>\n",
       "      <th>6</th>\n",
       "      <td>3</td>\n",
       "      <td>2013-03-01</td>\n",
       "      <td>Falcon 9</td>\n",
       "      <td>677.0</td>\n",
       "      <td>CCSFS SLC 40</td>\n",
       "      <td>28.561857</td>\n",
       "      <td>-80.577366</td>\n",
       "      <td>ISS</td>\n",
       "      <td>1.0</td>\n",
       "      <td>False</td>\n",
       "      <td>False</td>\n",
       "      <td>False</td>\n",
       "      <td>None</td>\n",
       "      <td>0.0</td>\n",
       "      <td>B0007</td>\n",
       "      <td>1.0</td>\n",
       "      <td>None None</td>\n",
       "    </tr>\n",
       "    <tr>\n",
       "      <th>7</th>\n",
       "      <td>4</td>\n",
       "      <td>2013-09-29</td>\n",
       "      <td>Falcon 9</td>\n",
       "      <td>500.0</td>\n",
       "      <td>VAFB SLC 4E</td>\n",
       "      <td>34.632093</td>\n",
       "      <td>-120.610829</td>\n",
       "      <td>PO</td>\n",
       "      <td>1.0</td>\n",
       "      <td>False</td>\n",
       "      <td>False</td>\n",
       "      <td>False</td>\n",
       "      <td>None</td>\n",
       "      <td>0.0</td>\n",
       "      <td>B1003</td>\n",
       "      <td>1.0</td>\n",
       "      <td>False Ocean</td>\n",
       "    </tr>\n",
       "    <tr>\n",
       "      <th>8</th>\n",
       "      <td>5</td>\n",
       "      <td>2013-12-03</td>\n",
       "      <td>Falcon 9</td>\n",
       "      <td>3170.0</td>\n",
       "      <td>CCSFS SLC 40</td>\n",
       "      <td>28.561857</td>\n",
       "      <td>-80.577366</td>\n",
       "      <td>GTO</td>\n",
       "      <td>1.0</td>\n",
       "      <td>False</td>\n",
       "      <td>False</td>\n",
       "      <td>False</td>\n",
       "      <td>None</td>\n",
       "      <td>0.0</td>\n",
       "      <td>B1004</td>\n",
       "      <td>1.0</td>\n",
       "      <td>None None</td>\n",
       "    </tr>\n",
       "    <tr>\n",
       "      <th>9</th>\n",
       "      <td>6</td>\n",
       "      <td>2014-01-06</td>\n",
       "      <td>Falcon 9</td>\n",
       "      <td>3325.0</td>\n",
       "      <td>CCSFS SLC 40</td>\n",
       "      <td>28.561857</td>\n",
       "      <td>-80.577366</td>\n",
       "      <td>GTO</td>\n",
       "      <td>1.0</td>\n",
       "      <td>False</td>\n",
       "      <td>False</td>\n",
       "      <td>False</td>\n",
       "      <td>None</td>\n",
       "      <td>0.0</td>\n",
       "      <td>B1005</td>\n",
       "      <td>1.0</td>\n",
       "      <td>None None</td>\n",
       "    </tr>\n",
       "  </tbody>\n",
       "</table>\n",
       "</div>"
      ],
      "text/plain": [
       "   FlightNumber       date BoosterVersion  PayloadMass    LaunchSite  \\\n",
       "4             1 2010-06-04       Falcon 9          NaN  CCSFS SLC 40   \n",
       "5             2 2012-05-22       Falcon 9        525.0  CCSFS SLC 40   \n",
       "6             3 2013-03-01       Falcon 9        677.0  CCSFS SLC 40   \n",
       "7             4 2013-09-29       Falcon 9        500.0   VAFB SLC 4E   \n",
       "8             5 2013-12-03       Falcon 9       3170.0  CCSFS SLC 40   \n",
       "9             6 2014-01-06       Falcon 9       3325.0  CCSFS SLC 40   \n",
       "\n",
       "    Latitude   Longitude Orbit  Flights Reused GridFins   Legs LandingPad  \\\n",
       "4  28.561857  -80.577366   LEO      1.0  False    False  False       None   \n",
       "5  28.561857  -80.577366   LEO      1.0  False    False  False       None   \n",
       "6  28.561857  -80.577366   ISS      1.0  False    False  False       None   \n",
       "7  34.632093 -120.610829    PO      1.0  False    False  False       None   \n",
       "8  28.561857  -80.577366   GTO      1.0  False    False  False       None   \n",
       "9  28.561857  -80.577366   GTO      1.0  False    False  False       None   \n",
       "\n",
       "   ReusedCount Serial  Block      Outcome  \n",
       "4          0.0  B0003    1.0    None None  \n",
       "5          0.0  B0005    1.0    None None  \n",
       "6          0.0  B0007    1.0    None None  \n",
       "7          0.0  B1003    1.0  False Ocean  \n",
       "8          0.0  B1004    1.0    None None  \n",
       "9          0.0  B1005    1.0    None None  "
      ]
     },
     "execution_count": 115,
     "metadata": {},
     "output_type": "execute_result"
    }
   ],
   "source": [
    "falcon_9_data.loc[:,'FlightNumber'] = list(range(1, falcon_9_data.shape[0]+1))\n",
    "falcon_9_data.head(n=6)"
   ]
  },
  {
   "cell_type": "markdown",
   "metadata": {},
   "source": [
    "Handling the Missing Values:"
   ]
  },
  {
   "cell_type": "code",
   "execution_count": 119,
   "metadata": {},
   "outputs": [
    {
     "data": {
      "text/plain": [
       "FlightNumber       0\n",
       "date               0\n",
       "BoosterVersion     0\n",
       "PayloadMass        0\n",
       "LaunchSite         0\n",
       "Latitude           0\n",
       "Longitude          0\n",
       "Orbit              1\n",
       "Flights            5\n",
       "Reused             5\n",
       "GridFins           5\n",
       "Legs               5\n",
       "LandingPad        31\n",
       "ReusedCount        5\n",
       "Serial             5\n",
       "Block              5\n",
       "Outcome            0\n",
       "dtype: int64"
      ]
     },
     "execution_count": 119,
     "metadata": {},
     "output_type": "execute_result"
    }
   ],
   "source": [
    "falcon_9_data.isnull().sum()"
   ]
  },
  {
   "cell_type": "code",
   "execution_count": 117,
   "metadata": {},
   "outputs": [
    {
     "name": "stdout",
     "output_type": "stream",
     "text": [
      "8183.607718120806\n"
     ]
    }
   ],
   "source": [
    "print(falcon_9_data['PayloadMass'].mean())"
   ]
  },
  {
   "cell_type": "code",
   "execution_count": null,
   "metadata": {},
   "outputs": [],
   "source": [
    "mean_payload_weight = falcon_9_data['PayloadMass'].mean()\n",
    "\n",
    "falcon_9_data['PayloadMass'] = falcon_9_data['PayloadMass'].fillna(mean_payload_weight)\n",
    "\n",
    "print(falcon_9_data['PayloadMass'].mean())"
   ]
  },
  {
   "cell_type": "code",
   "execution_count": 120,
   "metadata": {},
   "outputs": [],
   "source": [
    "falcon_9_data_cleaned = falcon_9_data.dropna(subset=[col for col in falcon_9_data.columns if col != 'LandingPad'])"
   ]
  },
  {
   "cell_type": "code",
   "execution_count": 124,
   "metadata": {},
   "outputs": [
    {
     "data": {
      "text/plain": [
       "FlightNumber       0\n",
       "date               0\n",
       "BoosterVersion     0\n",
       "PayloadMass        0\n",
       "LaunchSite         0\n",
       "Latitude           0\n",
       "Longitude          0\n",
       "Orbit              0\n",
       "Flights            0\n",
       "Reused             0\n",
       "GridFins           0\n",
       "Legs               0\n",
       "LandingPad        26\n",
       "ReusedCount        0\n",
       "Serial             0\n",
       "Block              0\n",
       "Outcome            0\n",
       "dtype: int64"
      ]
     },
     "execution_count": 124,
     "metadata": {},
     "output_type": "execute_result"
    }
   ],
   "source": [
    "falcon_9_data_cleaned.isnull().sum()"
   ]
  },
  {
   "cell_type": "code",
   "execution_count": 123,
   "metadata": {},
   "outputs": [],
   "source": [
    "falcon_9_data_cleaned.to_csv(\"falcon_9_cleaned_data.csv\", index = False)"
   ]
  },
  {
   "cell_type": "code",
   "execution_count": null,
   "metadata": {},
   "outputs": [],
   "source": []
  },
  {
   "cell_type": "code",
   "execution_count": null,
   "metadata": {},
   "outputs": [],
   "source": []
  }
 ],
 "metadata": {
  "kernelspec": {
   "display_name": "falcon_env",
   "language": "python",
   "name": "python3"
  },
  "language_info": {
   "codemirror_mode": {
    "name": "ipython",
    "version": 3
   },
   "file_extension": ".py",
   "mimetype": "text/x-python",
   "name": "python",
   "nbconvert_exporter": "python",
   "pygments_lexer": "ipython3",
   "version": "3.12.5"
  }
 },
 "nbformat": 4,
 "nbformat_minor": 2
}
